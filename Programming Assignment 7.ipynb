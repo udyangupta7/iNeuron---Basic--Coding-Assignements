{
 "cells": [
  {
   "cell_type": "markdown",
   "metadata": {},
   "source": [
    "### Q1: Write a Python Program to find sum of array?\n",
    "\n",
    "#### A1: "
   ]
  },
  {
   "cell_type": "code",
   "execution_count": 33,
   "metadata": {},
   "outputs": [
    {
     "name": "stdout",
     "output_type": "stream",
     "text": [
      "Enter the length of the array: 5\n",
      "Enter a number: 324\n",
      "Enter a number: 234\n",
      "Enter a number: 240\n",
      "Enter a number: 0948\n",
      "Enter a number: 4999\n",
      "The array is:  [324, 234, 240, 948, 4999]\n",
      "Sum of all the elements of the array:6745\n"
     ]
    }
   ],
   "source": [
    "try:\n",
    "    import logging as lg\n",
    "    lg.basicConfig(filename=\"logging.txt\",\n",
    "                   filemode='a',\n",
    "                   format='%(asctime)s %(levelname)s -%(message)s',\n",
    "                   datefmt='%Y-%m-%d %H:%M:%S')\n",
    "    arr = []     \n",
    "    sum = 0\n",
    "    length = int(input(\"Enter the length of the array: \"))\n",
    "    for i in range(0,length):\n",
    "        digit = int(input(\"Enter a number: \"))\n",
    "        arr.append(digit)\n",
    "    for i in range(0, len(arr)):    \n",
    "        sum = sum + arr[i];    \n",
    "    print(\"The array is: \",arr)\n",
    "    print(\"Sum of all the elements of the array:\"+ str(sum))\n",
    "except (TypeError,ValueError,AssertionError,Exception,ArithmeticError) as e:\n",
    "    print(\"Error is: \\n\", e)\n",
    "    lg.error(\"Error found in the code to find the sum of all the elements of an array.\")"
   ]
  },
  {
   "cell_type": "markdown",
   "metadata": {},
   "source": [
    "### Q2: Write a Python Program to find largest element in an array?\n",
    "\n",
    "#### A1: "
   ]
  },
  {
   "cell_type": "code",
   "execution_count": 43,
   "metadata": {},
   "outputs": [
    {
     "name": "stdout",
     "output_type": "stream",
     "text": [
      "Enter the length of the array: 4\n",
      "Enter a number: 111\n",
      "Enter a number: 23\n",
      "Enter a number: 2\n",
      "Enter a number: 1111\n",
      "The array is:  [111, 23, 2, 1111]\n",
      "The maximum number in the lit is:  1111\n"
     ]
    }
   ],
   "source": [
    "try:\n",
    "    import logging as lg\n",
    "    lg.basicConfig(filename=\"logging.txt\",\n",
    "                   filemode='a',\n",
    "                   format='%(asctime)s %(levelname)s -%(message)s',\n",
    "                   datefmt='%Y-%m-%d %H:%M:%S')\n",
    "    arr = []     \n",
    "    sum = 0\n",
    "    length = int(input(\"Enter the length of the array: \"))\n",
    "    for i in range(0,length):\n",
    "        digit = int(input(\"Enter a number: \"))\n",
    "        arr.append(digit)\n",
    "    print(\"The array is: \",arr)\n",
    "    max = arr[0]\n",
    "    for a in arr:\n",
    "        if a > max:\n",
    "            max = a\n",
    "    print(\"The maximum number in the lit is: \", max)\n",
    "except (AttributeError,TypeError,ValueError,AssertionError,Exception,ArithmeticError) as e:\n",
    "    print(\"Error is: \\n\", e)\n",
    "    lg.error(\"Error found in the code to find the sum of all the elements of an array.\")\n",
    "\n",
    " "
   ]
  },
  {
   "cell_type": "markdown",
   "metadata": {},
   "source": [
    "### Q3: Write a Python Program for array rotation?\n",
    "\n",
    "#### A3:"
   ]
  },
  {
   "cell_type": "code",
   "execution_count": 84,
   "metadata": {},
   "outputs": [
    {
     "name": "stdout",
     "output_type": "stream",
     "text": [
      "Enter the size of the list: 5\n",
      "Enter the Elements of the list: \n",
      "Enter a number: 1\n",
      "Enter a number: 2\n",
      "Enter a number: 3\n",
      "Enter a number: 4\n",
      "Enter a number: 5\n",
      "\n",
      "\n",
      "The array is: \n",
      "1 2 3 4 5 \n",
      "\n",
      "\n",
      "The rotated array is: \n",
      "5 1 2 3 4 "
     ]
    }
   ],
   "source": [
    "try:\n",
    "    import logging as lg\n",
    "    lg.basicConfig(filename=\"logging.txt\",\n",
    "                   filemode='a',\n",
    "                   format='%(asctime)s %(levelname)s -%(message)s',\n",
    "                   datefmt='%Y-%m-%d %H:%M:%S')\n",
    "    def rotate(A, n):\n",
    "        x = A[n - 1]\n",
    "        for i in range(n - 1, 0, -1):\n",
    "            A[i] = A[i - 1];\n",
    "        A[0] = x;\n",
    "    A=list()\n",
    "    n=int(input(\"Enter the size of the list: \"))\n",
    "    print(\"Enter the Elements of the list: \")\n",
    "    for i in range(int(n)):\n",
    "        k=int(input(\"Enter a number: \"))\n",
    "        A.append(k)\n",
    "    print(\"\\n\")\n",
    "    print (\"The array is: \")\n",
    "    for i in range(0, n):\n",
    "        print (A[i], end = ' ')\n",
    "    print(\"\\n\")\n",
    "    rotate(A, n)\n",
    "    print (\"\\nThe rotated array is: \")\n",
    "    for i in range(0, n):\n",
    "        print (A[i], end = ' ')\n",
    "except (AttributeError,TypeError,ValueError,AssertionError,Exception,ArithmeticError) as e:\n",
    "    print(\"Error is: \\n\", e)\n",
    "    lg.error(\"Error found in the code to find the sum of all the elements of an array.\")"
   ]
  },
  {
   "cell_type": "markdown",
   "metadata": {},
   "source": [
    "### Q4: Write a Python Program to Split the array and add the first part to the end?\n",
    "\n",
    "#### A4:"
   ]
  },
  {
   "cell_type": "code",
   "execution_count": 232,
   "metadata": {},
   "outputs": [
    {
     "name": "stdout",
     "output_type": "stream",
     "text": [
      "Enter the length of the array: 5\n",
      "Enter a number: 22\n",
      "Enter a number: 33\n",
      "Enter a number: 11\n",
      "Enter a number: 55\n",
      "Enter a number: 33\n",
      "The list is: [22, 33, 11, 55, 33] \n",
      "\n",
      "Enter the index for splicing the array: 3\n",
      "The list after changes is: \n",
      "55 33 22 33 11 "
     ]
    }
   ],
   "source": [
    "try:\n",
    "    import logging as lg\n",
    "    lg.basicConfig(filename=\"logging.txt\",\n",
    "                   filemode='a',\n",
    "                   format='%(asctime)s %(levelname)s -%(message)s',\n",
    "                   datefmt='%Y-%m-%d %H:%M:%S')\n",
    "    def split_list(my_list, n_val, k_val):\n",
    "        for i in range(0, k_val):\n",
    "            first_val = my_list[0]\n",
    "            for k in range(0, n_val-1):\n",
    "                my_list[k] = my_list[k + 1]\n",
    "            my_list[n_val-1] = first_val\n",
    "    my_list = []\n",
    "    length = int(input(\"Enter the length of the array: \"))\n",
    "    for i in range(0,length):\n",
    "        a = int(input(\"Enter a number: \"))\n",
    "        my_list.append(a)\n",
    "    print(\"The list is:\",my_list,\"\\n\")\n",
    "    list_len = len(my_list)\n",
    "    pos = int(input(\"Enter the index for splicing the array: \"))\n",
    "    print(\"The list after changes is: \")\n",
    "    split_list(my_list, list_len, pos)\n",
    "    for i in range(0, list_len):\n",
    "        print(my_list[i],end=\" \")\n",
    "except (AttributeError,TypeError,ValueError,AssertionError,Exception,ArithmeticError) as e:\n",
    "    print(\"Error is: \\n\", e)\n",
    "    lg.error(\"Error found in the code to find the sum of all the elements of an array.\")"
   ]
  },
  {
   "cell_type": "markdown",
   "metadata": {},
   "source": [
    "### Q5: Write a Python Program to check if given array is Monotonic?\n",
    "\n",
    "#### A5:"
   ]
  },
  {
   "cell_type": "code",
   "execution_count": 1,
   "metadata": {},
   "outputs": [
    {
     "name": "stdout",
     "output_type": "stream",
     "text": [
      "False\n"
     ]
    }
   ],
   "source": [
    "try:\n",
    "    import logging as lg\n",
    "    lg.basicConfig(filename=\"logging.txt\",\n",
    "                   filemode='a',\n",
    "                   format='%(asctime)s %(levelname)s -%(message)s',\n",
    "                   datefmt='%Y-%m-%d %H:%M:%S')\n",
    "    def isMonotonic(A):\n",
    "        return (all(A[i] <= A[i + 1] for i in range(len(A) - 1)) or\n",
    "                all(A[i] >= A[i + 1] for i in range(len(A) - 1)))\n",
    "    A = [2930,462,434,4233,73,45368]\n",
    "    print(isMonotonic(A))\n",
    "except (AttributeError,TypeError,ValueError,AssertionError,Exception,ArithmeticError) as e:\n",
    "    print(\"Error is: \\n\", e)\n",
    "    lg.error(\"Error found in the code to find the sum of all the elements of an array.\")"
   ]
  }
 ],
 "metadata": {
  "kernelspec": {
   "display_name": "Python 3",
   "language": "python",
   "name": "python3"
  },
  "language_info": {
   "codemirror_mode": {
    "name": "ipython",
    "version": 3
   },
   "file_extension": ".py",
   "mimetype": "text/x-python",
   "name": "python",
   "nbconvert_exporter": "python",
   "pygments_lexer": "ipython3",
   "version": "3.8.8"
  }
 },
 "nbformat": 4,
 "nbformat_minor": 4
}
