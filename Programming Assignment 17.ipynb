{
 "cells": [
  {
   "cell_type": "markdown",
   "id": "70e3869c",
   "metadata": {},
   "source": [
    "#### Q1: Assign the value 7 to the variable guess_me. Then, write the conditional tests (if, else, and elif) to print the string 'too low' if guess_me is less than 7, 'too high' if greater than 7, and 'just right' if equal to 7.\n",
    "\n",
    "#### A1:"
   ]
  },
  {
   "cell_type": "code",
   "execution_count": 15,
   "id": "4a1fbcd7",
   "metadata": {},
   "outputs": [
    {
     "name": "stdout",
     "output_type": "stream",
     "text": [
      "Enter a number, which will be saved in the variable 'guess_me':8\n",
      "\n",
      "too high\n"
     ]
    }
   ],
   "source": [
    "guess_me = int(input(\"Enter a number, which will be saved in the variable 'guess_me':\"))\n",
    "if guess_me > 7:\n",
    "    print(\"\\ntoo high\")\n",
    "elif guess_me == 7:\n",
    "    print(\"\\njust right\")\n",
    "if guess_me < 7:\n",
    "    print(\"\\ntoo low\")"
   ]
  },
  {
   "cell_type": "markdown",
   "id": "e50b04ef",
   "metadata": {},
   "source": [
    "#### Q2: Assign the value 7 to the variable guess_me and the value 1 to the variable start. Write a while loop that compares start with guess_me. Print too low if start is less than guess me. If start equals guess_me, print 'found it!' and exit the loop. If start is greater than guess_me, print 'oops' and exit the loop. Increment start at the end of the loop.\n",
    "\n",
    "#### A2:"
   ]
  },
  {
   "cell_type": "code",
   "execution_count": 54,
   "id": "e646681b",
   "metadata": {},
   "outputs": [
    {
     "name": "stdout",
     "output_type": "stream",
     "text": [
      "too low\n",
      "too low\n",
      "too low\n",
      "too low\n",
      "too low\n",
      "too low\n",
      "found it!\n"
     ]
    }
   ],
   "source": [
    "guess_me,start = 7,1\n",
    "while True:\n",
    "    if start < guess_me:\n",
    "        print(\"too low\")\n",
    "    elif start == guess_me:\n",
    "        print(\"found it!\")\n",
    "        break\n",
    "    else:\n",
    "        print(\"oops\")\n",
    "        break\n",
    "    start+=1"
   ]
  },
  {
   "cell_type": "markdown",
   "id": "c4fd1c4a",
   "metadata": {},
   "source": [
    "#### Q3: Print the following values of the list [3, 2, 1, 0] using a for loop.\n",
    "\n",
    "#### A3:"
   ]
  },
  {
   "cell_type": "code",
   "execution_count": 35,
   "id": "586f2d48",
   "metadata": {},
   "outputs": [
    {
     "name": "stdout",
     "output_type": "stream",
     "text": [
      "Enter a range for the list:4\n",
      "[3, 2, 1, 0]\n"
     ]
    }
   ],
   "source": [
    "lis = []\n",
    "ranger = int(input(\"Enter a range for the list:\"))\n",
    "for i in range(ranger):\n",
    "    lis.append((ranger-1)-i)\n",
    "print(lis)"
   ]
  },
  {
   "cell_type": "markdown",
   "id": "fc893943",
   "metadata": {},
   "source": [
    "#### Q4: Use a list comprehension to make a list of the even numbers in range(10)\n",
    "\n",
    "#### A4:"
   ]
  },
  {
   "cell_type": "code",
   "execution_count": 38,
   "id": "0620b47e",
   "metadata": {},
   "outputs": [
    {
     "name": "stdout",
     "output_type": "stream",
     "text": [
      "The list is - [0, 2, 4, 6, 8]\n"
     ]
    }
   ],
   "source": [
    "list_comprehension = [x for x in range(10) if x%2 == 0]\n",
    "print(\"The list is -\",list_comprehension)"
   ]
  },
  {
   "cell_type": "markdown",
   "id": "b2901499",
   "metadata": {},
   "source": [
    "#### Q5: Use a dictionary comprehension to create the dictionary named 'squares'. Use range(10) to return the keys, and use the square of each key as its value.\n",
    "\n",
    "#### A5:"
   ]
  },
  {
   "cell_type": "code",
   "execution_count": 41,
   "id": "3092dc4c",
   "metadata": {},
   "outputs": [
    {
     "name": "stdout",
     "output_type": "stream",
     "text": [
      "The dictionary is - {0: 0, 2: 4, 4: 16, 6: 36, 8: 64}\n"
     ]
    }
   ],
   "source": [
    "sqaures = {x:x**2 for x in range(10) if x%2 == 0}\n",
    "print(\"The dictionary is -\",sqaures)"
   ]
  },
  {
   "cell_type": "markdown",
   "id": "f23b8db4",
   "metadata": {},
   "source": [
    "#### Q6: Construct the set odd from the odd numbers in the range using a set comprehension (10).\n",
    "\n",
    "#### A6:"
   ]
  },
  {
   "cell_type": "code",
   "execution_count": 53,
   "id": "464158ee",
   "metadata": {},
   "outputs": [
    {
     "name": "stdout",
     "output_type": "stream",
     "text": [
      "The ser is - {1, 3, 5, 7, 9}\n"
     ]
    }
   ],
   "source": [
    "odd = set([i for i in range(10) if i%2 == 1])\n",
    "print(\"The ser is -\",odd)"
   ]
  },
  {
   "cell_type": "markdown",
   "id": "fd58f56a",
   "metadata": {},
   "source": [
    "#### Q7: Use a generator comprehension to return the string 'Got ' and a number for the numbers in range(10). Iterate through this by using a for loop.\n",
    "\n",
    "#### A7:"
   ]
  },
  {
   "cell_type": "code",
   "execution_count": 62,
   "id": "567302c2",
   "metadata": {},
   "outputs": [
    {
     "name": "stdout",
     "output_type": "stream",
     "text": [
      "Got 0\n",
      "Got 1\n",
      "Got 2\n",
      "Got 3\n",
      "Got 4\n",
      "Got 5\n",
      "Got 6\n",
      "Got 7\n",
      "Got 8\n",
      "Got 9\n"
     ]
    }
   ],
   "source": [
    "comprehension = ('Got ' + str(num) for num in range(10))\n",
    "for item in comprehension:\n",
    "    print(item)"
   ]
  },
  {
   "cell_type": "markdown",
   "id": "020f2544",
   "metadata": {},
   "source": [
    "#### Q8: Define a function called good that returns the list ['Harry', 'Ron', 'Hermione'].\n",
    "\n",
    "#### A8:"
   ]
  },
  {
   "cell_type": "code",
   "execution_count": 65,
   "id": "3af0a309",
   "metadata": {},
   "outputs": [
    {
     "data": {
      "text/plain": [
       "['Harry', 'Ron', 'Hermione']"
      ]
     },
     "execution_count": 65,
     "metadata": {},
     "output_type": "execute_result"
    }
   ],
   "source": [
    "def good():\n",
    "    return ['Harry', 'Ron', 'Hermione']\n",
    "good()"
   ]
  },
  {
   "cell_type": "markdown",
   "id": "3e1fa1d3",
   "metadata": {},
   "source": [
    "#### Q9: Define a generator function called get_odds that returns the odd numbers from range(10). Use a for loop to find and print the third value returned.\n",
    "\n",
    "#### A9:"
   ]
  },
  {
   "cell_type": "code",
   "execution_count": 94,
   "id": "a82952e1",
   "metadata": {},
   "outputs": [
    {
     "name": "stdout",
     "output_type": "stream",
     "text": [
      "The third element has the value - 5\n"
     ]
    }
   ],
   "source": [
    "def get_odds():\n",
    "    x = [i for i in range(10) if i%2 == 1]\n",
    "    count = 0\n",
    "    for i in x:\n",
    "        if count == 2:\n",
    "            print(\"The third element has the value -\",i)\n",
    "        count += 1\n",
    "get_odds()"
   ]
  },
  {
   "cell_type": "markdown",
   "id": "bae62f44",
   "metadata": {},
   "source": [
    "#### Q10: Define an exception called OopsException. Raise this exception to see what happens. Then write the code to catch this exception and print 'Caught an oops'.\n",
    "\n",
    "#### A10:"
   ]
  },
  {
   "cell_type": "code",
   "execution_count": 105,
   "id": "4606283d",
   "metadata": {},
   "outputs": [
    {
     "name": "stdout",
     "output_type": "stream",
     "text": [
      "Caught an oops\n"
     ]
    }
   ],
   "source": [
    "class OopsException(Exception):\n",
    "    pass\n",
    "\n",
    "def with_exception(a):\n",
    "    if a < 0:\n",
    "        raise OopsException(a)\n",
    "try:\n",
    "    with_exception(-1)\n",
    "except OopsException as err:\n",
    "    print('Caught an oops')"
   ]
  },
  {
   "cell_type": "markdown",
   "id": "6299544d",
   "metadata": {},
   "source": [
    "#### Q11: Use zip() to make a dictionary called movies that pairs these lists: titles = ['Creature of Habit', 'Crewel Fate'] and plots = ['A nun turns into a monster', 'A haunted yarn shop'].\n",
    "\n",
    "#### A11:"
   ]
  },
  {
   "cell_type": "code",
   "execution_count": 108,
   "id": "2028c155",
   "metadata": {},
   "outputs": [
    {
     "name": "stdout",
     "output_type": "stream",
     "text": [
      "{'Creature of Habit': 'A nun turns into a monster', 'Crewel Fate': 'A haunted yarn shop'}\n"
     ]
    }
   ],
   "source": [
    "titles = ['Creature of Habit' , 'Crewel Fate']\n",
    "plots = ['A nun turns into a monster' , 'A haunted yarn shop']\n",
    "movies = {}\n",
    "for title, plot in zip(titles, plots):\n",
    "    movies[title] = plot\n",
    "print(movies)"
   ]
  }
 ],
 "metadata": {
  "kernelspec": {
   "display_name": "Python 3",
   "language": "python",
   "name": "python3"
  },
  "language_info": {
   "codemirror_mode": {
    "name": "ipython",
    "version": 3
   },
   "file_extension": ".py",
   "mimetype": "text/x-python",
   "name": "python",
   "nbconvert_exporter": "python",
   "pygments_lexer": "ipython3",
   "version": "3.8.8"
  }
 },
 "nbformat": 4,
 "nbformat_minor": 5
}
