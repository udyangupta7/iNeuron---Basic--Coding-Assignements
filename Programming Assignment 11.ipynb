{
 "cells": [
  {
   "cell_type": "markdown",
   "id": "218576e0",
   "metadata": {},
   "source": [
    "# Assignment 11:\n",
    "\n",
    "#### Q1: Write a Python program to find words which are greater than given length k?\n",
    "\n",
    "#### A1:"
   ]
  },
  {
   "cell_type": "code",
   "execution_count": 46,
   "id": "891afcee",
   "metadata": {},
   "outputs": [
    {
     "name": "stdout",
     "output_type": "stream",
     "text": [
      "Enter a string:- this is the longest sentence that will be written to not make any sense but it will make sense when the length of the string is supposed to be under consideration. Thanks!\n",
      "\n",
      "The string is:-\n",
      " this is the longest sentence that will be written to not make any sense but it will make sense when the length of the string is supposed to be under consideration. Thanks!\n",
      "\n",
      "Enter the length:- 6\n",
      "Words with count 6 or more are:-\n",
      "\n",
      "['longest', 'sentence', 'written', 'supposed', 'consideration.', 'Thanks!']\n"
     ]
    }
   ],
   "source": [
    "try:\n",
    "    string = str(input(\"Enter a string:- \"))\n",
    "    print(\"\\nThe string is:-\\n\",string)\n",
    "    length = int(input(\"\\nEnter the length:- \"))\n",
    "    print(\"Words with count\",length,\"or more are:-\\n\")\n",
    "    print([ i for i in string.split() if len(i) > length ])\n",
    "except (AttributeError,NameError) as e:\n",
    "    print(\"Error is: \",e)"
   ]
  },
  {
   "cell_type": "markdown",
   "id": "c6b36601",
   "metadata": {},
   "source": [
    "#### Q2: Write a Python program for removing i-th character from a string?\n",
    "\n",
    "#### A2:"
   ]
  },
  {
   "cell_type": "code",
   "execution_count": 55,
   "id": "2dc7cb51",
   "metadata": {},
   "outputs": [
    {
     "name": "stdout",
     "output_type": "stream",
     "text": [
      "Enter a string:- marvel: kid loki\n",
      "The string is:- marvel: kid loki\n",
      "Enter the i-th space to remove the character from:- 3\n",
      "String after removing the character from place 3  is:-  marel: kid loki\n"
     ]
    }
   ],
   "source": [
    "try:\n",
    "    string = str(input(\"Enter a string:- \"))\n",
    "    print(\"The string is:-\",string)\n",
    "    ith_space = int(input(\"Enter the i-th space to remove the character from:- \"))\n",
    "    new_string = \" \"\n",
    "    for i in range(len(string)):\n",
    "        if i != ith_space:\n",
    "            new_string += string[i]\n",
    "    print(\"String after removing the character from place\",ith_space,\" is:-\",new_string)\n",
    "except (AttributeError,NameError) as e:\n",
    "    print(\"Error is: \",e)"
   ]
  },
  {
   "cell_type": "markdown",
   "id": "a575c359",
   "metadata": {},
   "source": [
    "#### Q3: Write a Python program to split and join a string?\n",
    "\n",
    "#### A3:"
   ]
  },
  {
   "cell_type": "code",
   "execution_count": 77,
   "id": "6f2ec984",
   "metadata": {},
   "outputs": [
    {
     "name": "stdout",
     "output_type": "stream",
     "text": [
      "Enter a string:- string one.\n",
      "Enter another string:- string two\n",
      "\n",
      "The first string is:- string one.\n",
      "The second string is:- string two\n",
      "\n",
      "The combined string is:- string one. string two\n",
      "Press:\n",
      "\t 1 to choose the first string \n",
      "\t 2 to choose the second string:\n",
      "2\n",
      "Enter the character you want to split the string from: t\n",
      "String after split is:- ['s', 'ring ', 'wo']\n"
     ]
    }
   ],
   "source": [
    "try:\n",
    "    string_one = str(input(\"Enter a string:- \"))\n",
    "    string_two = str(input(\"Enter another string:- \"))\n",
    "    print(\"\\nThe first string is:-\",string_one)\n",
    "    print(\"The second string is:-\",string_two)\n",
    "    string_join = string_one+\" \"+string_two\n",
    "    print(\"\\nThe combined string is:-\",string_join)\n",
    "    while True:\n",
    "    choice = int(input(\"Press:\\n\\t 1 to choose the first string \\n\\t 2 to choose the second string:\\n\"))   \n",
    "        if choice == 1:\n",
    "            entry = str(input(\"Enter the character you want to split the string from: \"))\n",
    "            string_split = string_one.split(entry)\n",
    "            print(\"String after split is:-\",string_split)\n",
    "            break\n",
    "        elif choice == 2:\n",
    "            entry = str(input(\"Enter the character you want to split the string from: \"))\n",
    "            string_split = string_two.split(entry)\n",
    "            print(\"String after split is:-\",string_split)\n",
    "            break\n",
    "        else:\n",
    "            print(\"Wrong input. Try again!\")\n",
    "except (AttributeError,NameError) as e:\n",
    "    print(\"Error is: \",e)"
   ]
  },
  {
   "cell_type": "markdown",
   "id": "115f67cb",
   "metadata": {},
   "source": [
    "#### Q4: Write a Python to check if a given string is binary string or not?\n",
    "\n",
    "#### A4:"
   ]
  },
  {
   "cell_type": "code",
   "execution_count": 90,
   "id": "75288f5b",
   "metadata": {},
   "outputs": [
    {
     "name": "stdout",
     "output_type": "stream",
     "text": [
      "Enter a binary string: 10101010101\n",
      "10101010101 is a binary string.\n"
     ]
    }
   ],
   "source": [
    "string = str(input(\"Enter a binary string: \"))\n",
    "binary_set = {'0','1'}\n",
    "set_string = set(string)\n",
    "\n",
    "if binary_set == set_string or set_string == {'0'} or set_string == {'1'}:\n",
    "    print(string,\"is a binary string.\")\n",
    "else:\n",
    "    print(string,\"is not a binary string.\")\n"
   ]
  },
  {
   "cell_type": "markdown",
   "id": "d45fe7f4",
   "metadata": {},
   "source": [
    "#### Q5: Write a Python program to find uncommon words from two Strings?\n",
    "\n",
    "#### A5:"
   ]
  },
  {
   "cell_type": "code",
   "execution_count": 111,
   "id": "55657a22",
   "metadata": {},
   "outputs": [
    {
     "name": "stdout",
     "output_type": "stream",
     "text": [
      "Enter first string : set fires to my forest\n",
      "Enter second string : set fires TO my forest and to my purpose\n",
      "All uncommon words from both the string are:-  and purpose\n"
     ]
    }
   ],
   "source": [
    "try:\n",
    "    str1 = input('Enter first string : ')\n",
    "    str2 = input('Enter second string : ')\n",
    "    str1 = str1.lower()\n",
    "    str2 = str2.lower()\n",
    "    str1List = str1.split()\n",
    "    str2List = str2.split()\n",
    "    uncommonWords = \"\"\n",
    "    for words in str1List:\n",
    "        if words not in str2List:\n",
    "            uncommonWords = uncommonWords+\" \"+words\n",
    "    for words in str2List:\n",
    "        if words not in str1List:\n",
    "            uncommonWords = uncommonWords+\" \"+words\n",
    "    print(\"All uncommon words from both the string are:-\", uncommonWords)\n",
    "except (AttributeError,NameError) as e:\n",
    "    print(\"Error is: \",e)"
   ]
  },
  {
   "cell_type": "markdown",
   "id": "ed9989df",
   "metadata": {},
   "source": [
    "#### Q6: Write a Python to find all duplicate characters in string?\n",
    "\n",
    "#### A6:"
   ]
  },
  {
   "cell_type": "code",
   "execution_count": 121,
   "id": "6b6b6e3b",
   "metadata": {},
   "outputs": [
    {
     "name": "stdout",
     "output_type": "stream",
     "text": [
      "Enter a string with(preferably) repeating characters: she's an hour late for her medications\n",
      "Repeating characters are:- s , h , e , a , n , o , r , t , i ,\n"
     ]
    }
   ],
   "source": [
    "string = str(input(\"Enter a string with(preferably) repeating characters: \"))\n",
    "duplicates = []\n",
    "for char in string:\n",
    "    if string.count(char) > 1:\n",
    "        if char == \" \":\n",
    "            continue\n",
    "        elif char not in duplicates:\n",
    "            duplicates.append(char)\n",
    "            duplicates.append(\",\")\n",
    "print(\"Repeating characters are:-\",*duplicates)"
   ]
  },
  {
   "cell_type": "markdown",
   "id": "602d5817",
   "metadata": {},
   "source": [
    "#### Q7: Write a Python Program to check if a string contains any special character?\n",
    "\n",
    "#### A7: "
   ]
  },
  {
   "cell_type": "code",
   "execution_count": 142,
   "id": "0e21ece7",
   "metadata": {},
   "outputs": [
    {
     "name": "stdout",
     "output_type": "stream",
     "text": [
      "Enter a string with(preferably) repeating characters: udyan7.com\n",
      "There are no special characters in the string.\n"
     ]
    }
   ],
   "source": [
    "string = str(input(\"Enter a string with(preferably) repeating characters: \"))\n",
    "special_characters = \" !@#$%^&*()-+?_=,<>/\"\n",
    "if any(i in special_characters for i in string):\n",
    "    print(\"We found special characters in the string\")\n",
    "else:\n",
    "    print(\"There are no special characters in the string.\")"
   ]
  }
 ],
 "metadata": {
  "kernelspec": {
   "display_name": "Python 3",
   "language": "python",
   "name": "python3"
  },
  "language_info": {
   "codemirror_mode": {
    "name": "ipython",
    "version": 3
   },
   "file_extension": ".py",
   "mimetype": "text/x-python",
   "name": "python",
   "nbconvert_exporter": "python",
   "pygments_lexer": "ipython3",
   "version": "3.8.8"
  }
 },
 "nbformat": 4,
 "nbformat_minor": 5
}
