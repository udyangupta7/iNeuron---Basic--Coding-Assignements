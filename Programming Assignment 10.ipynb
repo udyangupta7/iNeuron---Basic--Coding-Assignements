{
 "cells": [
  {
   "cell_type": "markdown",
   "id": "4ad1c23f",
   "metadata": {},
   "source": [
    "# Assignment 10\n",
    "\n",
    "#### Q1: Write a Python program to find sum of elements in list?\n",
    "\n",
    "#### A1:"
   ]
  },
  {
   "cell_type": "code",
   "execution_count": 45,
   "id": "e8e2a593",
   "metadata": {},
   "outputs": [
    {
     "name": "stdout",
     "output_type": "stream",
     "text": [
      "Enter the range of the list: -2\n",
      "Very high range, negative value or zero entered. Try again.\n",
      "Enter the range of the list: 5\n",
      "Enter a number: 10\n",
      "Enter a number: 20\n",
      "Enter a number: 30\n",
      "Enter a number: 40\n",
      "Enter a number: 50\n",
      "\n",
      "The list is:\t [10, 20, 30, 40, 50]\n",
      "\n",
      "The sum of all the elements in the list is: 150\n"
     ]
    }
   ],
   "source": [
    "while True:\n",
    "    upper = int(input(\"Enter the range of the list: \"))\n",
    "    if upper >= 10 or upper <= 0:\n",
    "        print(\"Very high range, negative value or zero entered. Try again.\")\n",
    "    else:\n",
    "        break\n",
    "lst = []\n",
    "for i in range(0,upper):\n",
    "    num = int(input(\"Enter a number: \"))\n",
    "    lst.append(num)\n",
    "print(\"\\nThe list is:\\t\",lst)\n",
    "a = 0 # empty variable 'a' with value zero\n",
    "for i in lst:\n",
    "    a += i\n",
    "print(\"\\nThe sum of all the elements in the list is:\",a)"
   ]
  },
  {
   "cell_type": "markdown",
   "id": "bb9eafee",
   "metadata": {},
   "source": [
    "#### Q2: Write a Python program to  Multiply all numbers in the list?\n",
    "\n",
    "#### A2:"
   ]
  },
  {
   "cell_type": "code",
   "execution_count": 44,
   "id": "cae4dc88",
   "metadata": {},
   "outputs": [
    {
     "name": "stdout",
     "output_type": "stream",
     "text": [
      "Enter the range of the list: -12\n",
      "Very high range, negative value or zero entered. Try again.\n",
      "Enter the range of the list: 12\n",
      "Very high range, negative value or zero entered. Try again.\n",
      "Enter the range of the list: 4\n",
      "Enter a number: 1\n",
      "Enter a number: 2\n",
      "Enter a number: 3\n",
      "Enter a number: 4\n",
      "The multiplication of all the elements in the list is: 24\n"
     ]
    }
   ],
   "source": [
    "while True:\n",
    "    upper = int(input(\"Enter the range of the list: \"))\n",
    "    if upper >= 10 or upper <= 0:\n",
    "        print(\"Very high range, negative value or zero entered. Try again.\")\n",
    "    else:\n",
    "        break\n",
    "lst = []\n",
    "for i in range(0,upper):\n",
    "    num = int(input(\"Enter a number: \"))\n",
    "    lst.append(num)\n",
    "b = 1\n",
    "for i in lst:\n",
    "    b *= i\n",
    "print(\"The multiplication of all the elements in the list is:\",b)"
   ]
  },
  {
   "cell_type": "markdown",
   "id": "719a9342",
   "metadata": {},
   "source": [
    "#### Q3: Write a Python program to find smallest number in a list?\n",
    "\n",
    "#### A3:"
   ]
  },
  {
   "cell_type": "code",
   "execution_count": 50,
   "id": "e8f4d299",
   "metadata": {},
   "outputs": [
    {
     "name": "stdout",
     "output_type": "stream",
     "text": [
      "Enter the range of the list: 6\n",
      "Enter a number: -2\n",
      "Enter a number: -339\n",
      "Enter a number: 3\n",
      "Enter a number: 4\n",
      "Enter a number: -2456\n",
      "Enter a number: 4\n",
      "The list is:  [-2, -339, 3, 4, -2456, 4]\n",
      "Smallest number in the list is:  -2456\n"
     ]
    }
   ],
   "source": [
    "while True:\n",
    "    upper = int(input(\"Enter the range of the list: \"))\n",
    "    if upper >= 10 or upper <= 0:\n",
    "        print(\"Very high range, negative value or zero entered. Try again.\")\n",
    "    else:\n",
    "        break\n",
    "lst = []\n",
    "for i in range(0,upper):\n",
    "    num = int(input(\"Enter a number: \"))\n",
    "    lst.append(num)\n",
    "print(\"The list is: \",lst)\n",
    "for i in range(0,upper):\n",
    "    lst.sort()\n",
    "print(\"Smallest number in the list is: \",lst[0])"
   ]
  },
  {
   "cell_type": "markdown",
   "id": "309dc92e",
   "metadata": {},
   "source": [
    "#### Q4: Write a Python program to find largest number in a list?\n",
    "\n",
    "#### A4:"
   ]
  },
  {
   "cell_type": "code",
   "execution_count": 51,
   "id": "2d2a69cc",
   "metadata": {},
   "outputs": [
    {
     "name": "stdout",
     "output_type": "stream",
     "text": [
      "Enter the range of the list: 4\n",
      "Enter a number: 200\n",
      "Enter a number: 3\n",
      "Enter a number: 4\n",
      "Enter a number: 5\n",
      "The list is:  [200, 3, 4, 5]\n",
      "Smallest number in the list is:  200\n"
     ]
    }
   ],
   "source": [
    "while True:\n",
    "    upper = int(input(\"Enter the range of the list: \"))\n",
    "    if upper >= 10 or upper <= 0:\n",
    "        print(\"Very high range, negative value or zero entered. Try again.\")\n",
    "    else:\n",
    "        break\n",
    "lst = []\n",
    "for i in range(0,upper):\n",
    "    num = int(input(\"Enter a number: \"))\n",
    "    lst.append(num)\n",
    "print(\"The list is: \",lst)\n",
    "for i in range(0,upper):\n",
    "    lst.sort()\n",
    "print(\"Smallest number in the list is: \",lst[upper-1])"
   ]
  },
  {
   "cell_type": "markdown",
   "id": "67913014",
   "metadata": {},
   "source": [
    "#### Q5: Write a Python program to find second largest number in a list?\n",
    "\n",
    "#### A5:"
   ]
  },
  {
   "cell_type": "code",
   "execution_count": 75,
   "id": "ba89985b",
   "metadata": {},
   "outputs": [
    {
     "name": "stdout",
     "output_type": "stream",
     "text": [
      "Enter the range of the list: 4\n",
      "Enter a number: 2\n",
      "Enter a number: 3\n",
      "Enter a number: 66\n",
      "Enter a number: 44\n",
      "The list is:  [2, 3, 66, 44]\n",
      "Second largest element in the list is: 3\n"
     ]
    }
   ],
   "source": [
    "while True:\n",
    "    upper = int(input(\"Enter the range of the list: \"))\n",
    "    if upper >= 10 or upper <= 0:\n",
    "        print(\"Very high range, negative value or zero entered. Try again.\")\n",
    "    else:\n",
    "        break\n",
    "lst = []\n",
    "for i in range(0,upper):\n",
    "    num = int(input(\"Enter a number: \"))\n",
    "    lst.append(num)\n",
    "print(\"The list is: \",lst)\n",
    "for i in range(0,upper):\n",
    "    lst.sort()\n",
    "print(\"Second largest element in the list is:\",lst[1])"
   ]
  },
  {
   "cell_type": "markdown",
   "id": "b1427bac",
   "metadata": {},
   "source": [
    "#### Q6: Write a Python program to find N largest elements from a list?\n",
    "\n",
    "#### A6:"
   ]
  },
  {
   "cell_type": "code",
   "execution_count": 89,
   "id": "2fe20b81",
   "metadata": {},
   "outputs": [
    {
     "name": "stdout",
     "output_type": "stream",
     "text": [
      "2 largest elements in the list: [85, 41]\n"
     ]
    }
   ],
   "source": [
    "def N_max_elements(list, N):\n",
    "    result_list = []\n",
    "  \n",
    "    for i in range(0, N): \n",
    "        maximum = 0\n",
    "          \n",
    "        for j in range(len(list)):     \n",
    "            if list[j] > maximum:\n",
    "                maximum = list[j]\n",
    "                  \n",
    "        list.remove(maximum)\n",
    "        result_list.append(maximum)\n",
    "          \n",
    "    return result_list\n",
    "list1 = [2, 6, 41, 85, 0, 3, 7, 6, 10]\n",
    "N = 2\n",
    "print(N, \"largest elements in the list:\",N_max_elements(list1, N))"
   ]
  },
  {
   "cell_type": "markdown",
   "id": "e28da975",
   "metadata": {},
   "source": [
    "#### Q7: Write a Python program to print even numbers in a list?\n",
    "\n",
    "#### A7:"
   ]
  },
  {
   "cell_type": "code",
   "execution_count": 100,
   "id": "73557d72",
   "metadata": {},
   "outputs": [
    {
     "name": "stdout",
     "output_type": "stream",
     "text": [
      "Enter the range of the list: 9\n",
      "Enter a number: 22\n",
      "Enter a number: 3\n",
      "Enter a number: 11\n",
      "Enter a number: 2\n",
      "Enter a number: 3\n",
      "Enter a number: 4\n",
      "Enter a number: 87\n",
      "Enter a number: 6\n",
      "Enter a number: 7\n",
      "The list is:  [22, 3, 11, 2, 3, 4, 87, 6, 7]\n",
      "All the even numbers in the list are:\n",
      "22 2 4 6 "
     ]
    },
    {
     "data": {
      "text/plain": [
       "[None, None, None, None]"
      ]
     },
     "execution_count": 100,
     "metadata": {},
     "output_type": "execute_result"
    }
   ],
   "source": [
    "while True:\n",
    "    upper = int(input(\"Enter the range of the list: \"))\n",
    "    if upper >= 10 or upper <= 0:\n",
    "        print(\"Very high range, negative value or zero entered. Try again.\")\n",
    "    else:\n",
    "        break\n",
    "lst = []\n",
    "for i in range(0,upper):\n",
    "    num = int(input(\"Enter a number: \"))\n",
    "    lst.append(num)\n",
    "print(\"The list is: \",lst)\n",
    "print(\"All the even numbers in the list are:\")\n",
    "[print(lst[i],end=\" \") for i in range(len(lst)) if lst[i]%2==0 ]"
   ]
  },
  {
   "cell_type": "markdown",
   "id": "86f1f176",
   "metadata": {},
   "source": [
    "#### Q8: Write a Python program to print odd numbers in a List?\n",
    "\n",
    "#### A8:"
   ]
  },
  {
   "cell_type": "code",
   "execution_count": 101,
   "id": "e390cf19",
   "metadata": {},
   "outputs": [
    {
     "name": "stdout",
     "output_type": "stream",
     "text": [
      "Enter the range of the list: 8\n",
      "Enter a number: 22\n",
      "Enter a number: 3\n",
      "Enter a number: 4\n",
      "Enter a number: 3\n",
      "Enter a number: 7\n",
      "Enter a number: 5\n",
      "Enter a number: 88\n",
      "Enter a number: 674\n",
      "The list is:  [22, 3, 4, 3, 7, 5, 88, 674]\n",
      "All the even numbers in the list are:\n",
      "3 3 7 5 "
     ]
    },
    {
     "data": {
      "text/plain": [
       "[None, None, None, None]"
      ]
     },
     "execution_count": 101,
     "metadata": {},
     "output_type": "execute_result"
    }
   ],
   "source": [
    "while True:\n",
    "    upper = int(input(\"Enter the range of the list: \"))\n",
    "    if upper >= 10 or upper <= 0:\n",
    "        print(\"Very high range, negative value or zero entered. Try again.\")\n",
    "    else:\n",
    "        break\n",
    "lst = []\n",
    "for i in range(0,upper):\n",
    "    num = int(input(\"Enter a number: \"))\n",
    "    lst.append(num)\n",
    "print(\"The list is: \",lst)\n",
    "print(\"All the even numbers in the list are:\")\n",
    "[print(lst[i],end=\" \") for i in range(len(lst)) if lst[i]%2==1 ]"
   ]
  },
  {
   "cell_type": "markdown",
   "id": "8ea95162",
   "metadata": {},
   "source": [
    "#### Q9: Write a Python program to Remove empty List from List?\n",
    "\n",
    "#### A9: "
   ]
  },
  {
   "cell_type": "code",
   "execution_count": 108,
   "id": "ecacad3d",
   "metadata": {},
   "outputs": [
    {
     "name": "stdout",
     "output_type": "stream",
     "text": [
      "The original list is :  [5, 6, [], 3, [], 55, [], 10, [], 9]\n",
      "List after empty list removal :  [5, 6, 3, 55, 10, 9]\n"
     ]
    }
   ],
   "source": [
    "lst = [5, 6, [], 3, [], 55, [], 10, [], 9]\n",
    "print(\"The original list is : \",lst)\n",
    "res = [i for i in lst if i != []]\n",
    "print (\"List after empty list removal : \",res)"
   ]
  },
  {
   "cell_type": "markdown",
   "id": "2e6b7a7c",
   "metadata": {},
   "source": [
    "#### Q10: Write a Python program to Cloning or Copying a list?\n",
    "\n",
    "#### A10:"
   ]
  },
  {
   "cell_type": "code",
   "execution_count": 115,
   "id": "bb463a0f",
   "metadata": {},
   "outputs": [
    {
     "name": "stdout",
     "output_type": "stream",
     "text": [
      "Enter the range of the list: 5\n",
      "Enter a number: 33\n",
      "Enter a number: 4\n",
      "Enter a number: 55\n",
      "Enter a number: 45\n",
      "Enter a number: 3\n",
      "\n",
      "The list is:  [33, 4, 55, 45, 3]\n",
      "\n",
      "The cloned list is:  [33, 4, 55, 45, 3]\n"
     ]
    }
   ],
   "source": [
    "while True:\n",
    "    upper = int(input(\"Enter the range of the list: \"))\n",
    "    if upper >= 10 or upper <= 0:\n",
    "        print(\"Very high range, negative value or zero entered. Try again.\")\n",
    "    else:\n",
    "        break\n",
    "lst1 , lst2  = [] , []\n",
    "for i in range(0,upper):\n",
    "    num = int(input(\"Enter a number: \"))\n",
    "    lst1.append(num)\n",
    "for i in range(len(lst1)):\n",
    "    lst2.append(lst1[i])\n",
    "print(\"\\nThe list is: \",lst1)\n",
    "print(\"\\nThe cloned list is: \",lst2)"
   ]
  },
  {
   "cell_type": "markdown",
   "id": "21a0856c",
   "metadata": {},
   "source": [
    "#### Q11: Write a Python program to Count occurrences of an element in a list?\n",
    "\n",
    "#### A11:"
   ]
  },
  {
   "cell_type": "code",
   "execution_count": 131,
   "id": "e119819b",
   "metadata": {},
   "outputs": [
    {
     "name": "stdout",
     "output_type": "stream",
     "text": [
      "Enter the range of the list: 6\n",
      "Enter a string: w\n",
      "Enter a string: w\n",
      "Enter a string: e\n",
      "Enter a string: w\n",
      "Enter a string: w\n",
      "Enter a string: e\n",
      "The list is: ['w', 'w', 'e', 'w', 'w', 'e']\n",
      "Enter the string to be counted in the list:w\n",
      "w is repeated 4 times in the list\n"
     ]
    }
   ],
   "source": [
    "while True:\n",
    "    upper = int(input(\"Enter the range of the list: \"))\n",
    "    if upper >= 10 or upper <= 0:\n",
    "        print(\"Very high range, negative value or zero entered. Try again.\")\n",
    "    else:\n",
    "        break\n",
    "lst = []\n",
    "for i in range(0,upper):\n",
    "    string = str(input(\"Enter a string: \"))\n",
    "    lst.append(string)\n",
    "print(\"The list is:\",lst)\n",
    "elem = str(input(\"Enter the string to be counted in the list:\"))    \n",
    "cnt = lst.count(elem)\n",
    "print(elem,\"is repeated\",cnt,\"times in the list\")"
   ]
  }
 ],
 "metadata": {
  "kernelspec": {
   "display_name": "Python 3",
   "language": "python",
   "name": "python3"
  },
  "language_info": {
   "codemirror_mode": {
    "name": "ipython",
    "version": 3
   },
   "file_extension": ".py",
   "mimetype": "text/x-python",
   "name": "python",
   "nbconvert_exporter": "python",
   "pygments_lexer": "ipython3",
   "version": "3.8.8"
  }
 },
 "nbformat": 4,
 "nbformat_minor": 5
}
