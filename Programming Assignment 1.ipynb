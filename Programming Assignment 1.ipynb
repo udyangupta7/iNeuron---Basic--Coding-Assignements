{
 "cells": [
  {
   "cell_type": "markdown",
   "metadata": {},
   "source": [
    "Q1:  Write a Python program to print \"Hello Python\"?\n",
    "\n",
    "A1:"
   ]
  },
  {
   "cell_type": "code",
   "execution_count": 1,
   "metadata": {},
   "outputs": [
    {
     "name": "stdout",
     "output_type": "stream",
     "text": [
      "hello world\n"
     ]
    }
   ],
   "source": [
    "print(\"hello world\")"
   ]
  },
  {
   "cell_type": "markdown",
   "metadata": {},
   "source": [
    "Q2:  Write a Python program to do arithmetical operations addition and division?\n",
    "\n",
    "A2:"
   ]
  },
  {
   "cell_type": "code",
   "execution_count": 3,
   "metadata": {
    "scrolled": true
   },
   "outputs": [
    {
     "name": "stdout",
     "output_type": "stream",
     "text": [
      "Enter first number: 1\n",
      "Enter first number: 2\n",
      "Arithemitcal addition:  3.0\n",
      "Arithemitcal division:  0.5\n"
     ]
    }
   ],
   "source": [
    "a = float(input(\"Enter first number: \"))\n",
    "b = float(input(\"Enter first number: \"))\n",
    "print(\"Arithemitcal addition: \",a+b)\n",
    "print(\"Arithemitcal division: \",a/b)"
   ]
  },
  {
   "cell_type": "markdown",
   "metadata": {},
   "source": [
    "Q3:  Write a Python program to find the area of a triangle?\n",
    "\n",
    "A3:"
   ]
  },
  {
   "cell_type": "code",
   "execution_count": 12,
   "metadata": {},
   "outputs": [
    {
     "name": "stdout",
     "output_type": "stream",
     "text": [
      "Enter base length:- 0.5\n",
      "Enter hypotenuse:- 0.2\n",
      "Area of a Triangle is:- 0.05 sqm\n"
     ]
    }
   ],
   "source": [
    "a = float(input(\"Enter base length:- \"))\n",
    "b = float(input(\"Enter hypotenuse:- \"))\n",
    "print(\"Area of a Triangle is:-\", round((0.5*a*b),3),\"sqm\")"
   ]
  },
  {
   "cell_type": "markdown",
   "metadata": {},
   "source": [
    "Q4: Write a Python program to swap two variables?\n",
    "\n",
    "A4:"
   ]
  },
  {
   "cell_type": "code",
   "execution_count": 20,
   "metadata": {},
   "outputs": [
    {
     "name": "stdout",
     "output_type": "stream",
     "text": [
      "Entry 1:- 11\n",
      "Entry 2:- qq\n",
      "\n",
      "Swapped Entries:- qq , 11\n"
     ]
    }
   ],
   "source": [
    "d = str(input(\"Entry 1:- \"))\n",
    "e = str(input(\"Entry 2:- \"))\n",
    "t = \"\"\n",
    "t = d\n",
    "d = e\n",
    "e = t  \n",
    "print(\"\\nSwapped Entries:-\",d,\",\",e)"
   ]
  },
  {
   "cell_type": "markdown",
   "metadata": {},
   "source": [
    "Q5: Write a Python program to generate a random number?\n",
    "\n",
    "A5: "
   ]
  },
  {
   "cell_type": "code",
   "execution_count": 31,
   "metadata": {},
   "outputs": [
    {
     "name": "stdout",
     "output_type": "stream",
     "text": [
      "A randon number:-  59333\n"
     ]
    }
   ],
   "source": [
    "import random as r\n",
    "print(\"A randon number:- \",r.randint(0,90000))"
   ]
  }
 ],
 "metadata": {
  "kernelspec": {
   "display_name": "Python 3",
   "language": "python",
   "name": "python3"
  },
  "language_info": {
   "codemirror_mode": {
    "name": "ipython",
    "version": 3
   },
   "file_extension": ".py",
   "mimetype": "text/x-python",
   "name": "python",
   "nbconvert_exporter": "python",
   "pygments_lexer": "ipython3",
   "version": "3.8.5"
  }
 },
 "nbformat": 4,
 "nbformat_minor": 4
}
