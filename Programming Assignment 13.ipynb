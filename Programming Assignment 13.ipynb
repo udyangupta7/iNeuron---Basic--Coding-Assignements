{
 "cells": [
  {
   "cell_type": "markdown",
   "id": "cb8f8d93",
   "metadata": {},
   "source": [
    "# Programming Assignment 13:\n",
    "\n",
    "#### Q1: Write a program that calculates and prints the value according to the given formula:\n",
    "##### Q = Square root of [ ( 2 * C * D) / H ] \n",
    "\n",
    "where C is 50, H is 30 & D is the variable whose values should be input to your program in a comma-separated sequence.\n",
    "\n",
    "#### A1:"
   ]
  },
  {
   "cell_type": "code",
   "execution_count": 16,
   "id": "849dda24",
   "metadata": {},
   "outputs": [
    {
     "name": "stdout",
     "output_type": "stream",
     "text": [
      "Enter values with each comma seperating it: 100,150,180\n",
      "18,22,24,"
     ]
    }
   ],
   "source": [
    "import math\n",
    "C,H = 50,30\n",
    "while True:\n",
    "    A = [int(x) for x in input(\"Enter values with each comma seperating it: \").strip().split(',')]\n",
    "    if len(A) == 3:\n",
    "        break\n",
    "    else:\n",
    "        print(\"Please enter three values:\")\n",
    "for i in range(3):\n",
    "    D = A[i]\n",
    "    Q = math.sqrt((2*C*D)/H) # using the square root function for the calculations\n",
    "    print(math.trunc(Q),end=\",\") # using trunc function to remove the decimal part"
   ]
  },
  {
   "cell_type": "markdown",
   "id": "818f9d9a",
   "metadata": {},
   "source": [
    "##### Q2: Write a program which takes 2 digits, X,Y as input and generates a 2-dimensional array. The element value in the i-th row and j-th column of the array should be i*j.\n",
    "\n",
    "#### A2:"
   ]
  },
  {
   "cell_type": "code",
   "execution_count": 67,
   "id": "9fb2882c",
   "metadata": {},
   "outputs": [
    {
     "name": "stdout",
     "output_type": "stream",
     "text": [
      "Enter the number of rows: 5\n",
      "Enter the number of columns: 5\n",
      "\n",
      "Enter indexes for the first matrix:\n",
      "[[0, 0, 0, 0, 0], [0, 1, 2, 3, 4], [0, 2, 4, 6, 8], [0, 3, 6, 9, 12], [0, 4, 8, 12, 16]]\n"
     ]
    }
   ],
   "source": [
    "X = int(input(\"Enter the number of rows: \"))\n",
    "Y = int(input(\"Enter the number of columns: \"))\n",
    "print(\"\\nEnter indexes for the first matrix:\")\n",
    "matrix = [[i*j for i in range(Y)]for j in range(X)]\n",
    "print(matrix)"
   ]
  },
  {
   "cell_type": "markdown",
   "id": "8453604b",
   "metadata": {},
   "source": [
    "#### Q3: Write a program that accepts a comma separated sequence of words as input and prints the words in a comma-separated sequence after sorting them alphabetically.\n",
    "\n",
    "#### A3:"
   ]
  },
  {
   "cell_type": "code",
   "execution_count": 31,
   "id": "4af61e06",
   "metadata": {},
   "outputs": [
    {
     "name": "stdout",
     "output_type": "stream",
     "text": [
      "Enter words with each comma seperating it: without,hello,bag,world\n",
      "\n",
      "Words in alphabetical order:\n",
      "bag,hello,without,world,"
     ]
    }
   ],
   "source": [
    "alphabet = [x for x in input(\"Enter words with each comma seperating it: \").strip().split(',')]\n",
    "for i in range(len(alphabet)): alphabet.sort()\n",
    "print(\"\\nWords in alphabetical order:\")\n",
    "for i in range(len(alphabet)): print(alphabet[i],end=\",\")"
   ]
  },
  {
   "cell_type": "markdown",
   "id": "d0fc481a",
   "metadata": {},
   "source": [
    "#### Q4: Write a program that accepts a sequence of whitespace separated words as input and prints the words after removing all duplicate words and sorting them alphanumerically.\n",
    "\n",
    "#### A4:"
   ]
  },
  {
   "cell_type": "code",
   "execution_count": 150,
   "id": "95d9582d",
   "metadata": {},
   "outputs": [
    {
     "name": "stdout",
     "output_type": "stream",
     "text": [
      "Enter a sentence: aa bb aa vvvv ss dd ss ss \n",
      "\n",
      "Words left after removing all duplicate words and sorting them alphanumerically:  aa bb dd ss vvvv\n"
     ]
    }
   ],
   "source": [
    "sen_spli = str(input(\"Enter a sentence: \")).split(' ')\n",
    "l = []\n",
    "for i in sen_spli:\n",
    "    if i not in l: l.append(i)\n",
    "    else: continue\n",
    "l.sort()\n",
    "print(\"\\nWords left after removing all duplicate words and sorting them alphanumerically:\",(' ').join(l))"
   ]
  },
  {
   "cell_type": "markdown",
   "id": "64983aaa",
   "metadata": {},
   "source": [
    "#### Q5: Write a program that accepts a sentence and calculate the number of letters and digits.\n",
    "\n",
    "#### A5:"
   ]
  },
  {
   "cell_type": "code",
   "execution_count": 46,
   "id": "ff0de59b",
   "metadata": {},
   "outputs": [
    {
     "name": "stdout",
     "output_type": "stream",
     "text": [
      "Enter an alphanumerical sentence: hello world 12345!!\n",
      "\n",
      "Total digits in the sentence: 5\n",
      "Total words in the sentence: 10\n"
     ]
    }
   ],
   "source": [
    "sentence = input(\"Enter an alphanumerical sentence: \").lower()\n",
    "digits_count = 0\n",
    "words_count = 0\n",
    "for i in sentence:\n",
    "    if i in 'abcdefghijklmnopqrstuvwxyz':words_count+=1\n",
    "    elif i in '1234567890' : digits_count+=1\n",
    "print(\"\\nTotal digits in the sentence:\",digits_count)\n",
    "print(\"Total words in the sentence:\",words_count)"
   ]
  },
  {
   "cell_type": "markdown",
   "id": "b028c3a9",
   "metadata": {},
   "source": [
    "#### Q6: A website requires the users to input username and password to register. Write a program to check the validity of password input by users.\n",
    "\n",
    "Following are the criteria for checking the password:\n",
    "1. At least 1 letter between [a-z]\n",
    "2. At least 1 number between [0-9]\n",
    "3. At least 1 letter between [A-Z]\n",
    "4. At least 1 character between $ # or @\n",
    "5. Minimum length of transaction password: 6\n",
    "6. Maximum length of transaction password: 12\n",
    "\n",
    "Your program should accept a sequence of comma separated passwords and will check them according to the above criteria. Passwords that match the criteria are to be printed, each separated by a comma.\n",
    "\n",
    "#### A6: "
   ]
  },
  {
   "cell_type": "code",
   "execution_count": 149,
   "id": "99fe2bdd",
   "metadata": {},
   "outputs": [
    {
     "name": "stdout",
     "output_type": "stream",
     "text": [
      "This will check the passwords for the website with the following conditions:\n",
      "\t1. At least 1 letter between [a-z]\n",
      "\t2. At least 1 number between [0-9]\n",
      "\t3. At least 1 letter between [A-Z]\n",
      "\t4. At least 1 character between $ # or @\n",
      "\t5. Minimum length of transaction password: 6\n",
      "\t6. Maximum length of transaction password: 12\n",
      "Type in passwords to check: Ashe!@123,Ashe!@123s,Assdjn2123\n",
      "All acceptable passwords are: Ashe!@123 Ashe!@123s\n"
     ]
    }
   ],
   "source": [
    "import re\n",
    "print(\"This will check the passwords for the website with the following conditions:\\n\\t1. At least 1 letter between [a-z]\\n\\t2. At least 1 number between [0-9]\\n\\t3. At least 1 letter between [A-Z]\\n\\t4. At least 1 character between $ # or @\\n\\t5. Minimum length of transaction password: 6\\n\\t6. Maximum length of transaction password: 12\")\n",
    "passwords = input(\"Type in passwords to check: \").strip().split(\",\")\n",
    "accepted_passwords = []\n",
    "for i in passwords:\n",
    "    if len(i) < 6 or len(i) > 12:\n",
    "        continue\n",
    "    elif not re.search(\"([a-z])+\", i):\n",
    "        continue\n",
    "    elif not re.search(\"([A-Z])+\", i):\n",
    "        continue\n",
    "    elif not re.search(\"([0-9])+\", i):\n",
    "        continue\n",
    "    elif not re.search(\"([@$#])+\", i):\n",
    "        continue\n",
    "    else:\n",
    "        accepted_passwords.append(i)\n",
    "if len(accepted_passwords) == 1:\n",
    "    print(\"Acceptable Password is:\",(\" \").join(accepted_passwords))\n",
    "else:\n",
    "    print(\"All acceptable passwords are:\",(\" \").join(accepted_passwords))"
   ]
  }
 ],
 "metadata": {
  "kernelspec": {
   "display_name": "Python 3",
   "language": "python",
   "name": "python3"
  },
  "language_info": {
   "codemirror_mode": {
    "name": "ipython",
    "version": 3
   },
   "file_extension": ".py",
   "mimetype": "text/x-python",
   "name": "python",
   "nbconvert_exporter": "python",
   "pygments_lexer": "ipython3",
   "version": "3.8.8"
  }
 },
 "nbformat": 4,
 "nbformat_minor": 5
}
