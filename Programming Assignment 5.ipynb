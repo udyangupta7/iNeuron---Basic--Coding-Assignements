{
 "cells": [
  {
   "cell_type": "markdown",
   "metadata": {},
   "source": [
    "### Q1: Write a Python Program to Find LCM?\n",
    "\n",
    "#### A1:"
   ]
  },
  {
   "cell_type": "code",
   "execution_count": 40,
   "metadata": {},
   "outputs": [
    {
     "name": "stdout",
     "output_type": "stream",
     "text": [
      "Enter the first number:- 12\n",
      "Enter the second number:- 45\n",
      "L.C.M. for 12 & 45 is:-  180\n"
     ]
    }
   ],
   "source": [
    "try:\n",
    "    num_1 = int(input(\"Enter the first number:- \"))\n",
    "    num_2 = int(input(\"Enter the second number:- \"))\n",
    "    if num_1 > num_2:\n",
    "        z = num_1\n",
    "    else:\n",
    "        z = num_2\n",
    "    while True:\n",
    "        if z % num_1 == 0 and z % num_2 == 0:\n",
    "            lcm = z\n",
    "            break\n",
    "        z+=1\n",
    "    print(\"L.C.M. for\",num_1,\"&\",num_2,\"is:- \",lcm)\n",
    "except (ValueError,ZeroDivisionError,KeyError,ArithmeticError) as e:\n",
    "    print(\"There is an error:- \",e,\". Please sort it.\")"
   ]
  },
  {
   "cell_type": "markdown",
   "metadata": {},
   "source": [
    "### Q2: Write a Python Program to Find HCF?\n",
    "\n",
    "#### A2:"
   ]
  },
  {
   "cell_type": "code",
   "execution_count": 41,
   "metadata": {},
   "outputs": [
    {
     "name": "stdout",
     "output_type": "stream",
     "text": [
      "Enter the first number:- 15\n",
      "Enter the second number:- 45\n",
      "H.C.F. for 15 & 45 is:-  15\n"
     ]
    }
   ],
   "source": [
    "try:\n",
    "    num_1 = int(input(\"Enter the first number:- \"))\n",
    "    num_2 = int(input(\"Enter the second number:- \"))\n",
    "    if num_1 > num_2:\n",
    "        z = num_2\n",
    "    if num_1 < num_2:\n",
    "        z = num_1\n",
    "    for i in range(1,z+1):\n",
    "        if((num_1 % i == 0) and (num_2 % i == 0)):\n",
    "            hcf = i\n",
    "    print(\"H.C.F. for\",num_1,\"&\",num_2,\"is:- \",hcf)\n",
    "except (ValueError,ZeroDivisionError,KeyError,ArithmeticError) as e:\n",
    "    print(\"There is an error:- \",e,\". Please sort it.\")"
   ]
  },
  {
   "cell_type": "markdown",
   "metadata": {},
   "source": [
    "### Q3: Write a Python Program to Convert Decimal to Binary, Octal and Hexadecimal?\n",
    "\n",
    "#### A3:"
   ]
  },
  {
   "cell_type": "code",
   "execution_count": 61,
   "metadata": {},
   "outputs": [
    {
     "name": "stdout",
     "output_type": "stream",
     "text": [
      "Enter a number:- 4\n",
      "\n",
      "\n",
      "The decimal value of 4 is: 4.00000\n",
      "4 in binary is: 0b100\n",
      "4 in octal is: 0o4\n",
      "4 in hexadecimal is: 0x4\n"
     ]
    }
   ],
   "source": [
    "try:\n",
    "    num = int(input(\"Enter a number:- \"))\n",
    "    print(\"\\n\")\n",
    "    print(\"The decimal value of\", num, \"is: {:.5f}\".format(num))\n",
    "    print(num,\"in binary is:\",bin(num))\n",
    "    print(num,\"in octal is:\",oct(num))\n",
    "    print(num, \"in hexadecimal is:\",hex(num))\n",
    "except (ValueError,ZeroDivisionError,KeyError,ArithmeticError) as e:\n",
    "    print(\"There is an error:- \",e,\". Please sort it.\")"
   ]
  },
  {
   "cell_type": "markdown",
   "metadata": {},
   "source": [
    "### Q4: Write a Python Program To Find ASCII value of a character?\n",
    "\n",
    "#### A4:"
   ]
  },
  {
   "cell_type": "code",
   "execution_count": 100,
   "metadata": {},
   "outputs": [
    {
     "name": "stdout",
     "output_type": "stream",
     "text": [
      "Enter a character: A\n",
      "\tThe ASCII value of ' A ' is: 65 \n",
      "\n",
      "Enter a character: a\n",
      "\tThe ASCII value of ' a ' is: 97 \n",
      "\n",
      "Enter a character: Z\n",
      "\tThe ASCII value of ' Z ' is: 90 \n",
      "\n",
      "Enter a character: z\n",
      "\tThe ASCII value of ' z ' is: 122 \n",
      "\n",
      "Enter a character: w\n",
      "\tThe ASCII value of ' w ' is: 119 \n",
      "\n"
     ]
    }
   ],
   "source": [
    "i = 0 # looping for 5 times\n",
    "try:\n",
    "    while i < 5:\n",
    "        char = str(input(\"Enter a character: \"))\n",
    "        print(\"\\tThe ASCII value of '\",char,\"' is:\", ord(char),\"\\n\")\n",
    "        i+=1\n",
    "except (ValueError,ZeroDivisionError,KeyError,ArithmeticError) as e:\n",
    "    print(\"There is an error:- \",e,\". Please sort it.\")   "
   ]
  },
  {
   "cell_type": "markdown",
   "metadata": {},
   "source": [
    "### Q5: Write a Python Program to Make a Simple Calculator with 4 basic mathematical operations?\n",
    "\n",
    "#### A5:"
   ]
  },
  {
   "cell_type": "code",
   "execution_count": 109,
   "metadata": {},
   "outputs": [
    {
     "name": "stdout",
     "output_type": "stream",
     "text": [
      "\n",
      "Select an operation:\n",
      "    1. Add\n",
      "    2. Subtract\n",
      "    3. Multiply\n",
      "    4. Divide\n",
      "\n",
      "Enter your choice based on the table shown below between (1/2/3/4): 2\n",
      "Enter first number: 2\n",
      "Enter second number: 3\n",
      "2.0 - 3.0 = -1.0\n"
     ]
    }
   ],
   "source": [
    "def add(x, y):\n",
    "    return x + y\n",
    "def subtract(x, y):\n",
    "    return x - y\n",
    "def multiply(x, y):\n",
    "    return x * y\n",
    "def divide(x, y):\n",
    "    return x / y\n",
    "print(\"\"\"\n",
    "Select an operation:\n",
    "    1. Add\n",
    "    2. Subtract\n",
    "    3. Multiply\n",
    "    4. Divide\n",
    "\"\"\")\n",
    "\n",
    "while True:\n",
    "    choice = input(\"Enter your choice based on the table shown below between (1/2/3/4): \")\n",
    "    if choice in ('1', '2', '3', '4'):\n",
    "        num1 = float(input(\"Enter first number: \"))\n",
    "        num2 = float(input(\"Enter second number: \"))\n",
    "        import math\n",
    "        if choice == '1':\n",
    "            print(num1, \"+\", num2, \"=\", add(num1, num2))\n",
    "        elif choice == '2':\n",
    "            print(num1, \"-\", num2, \"=\", subtract(num1, num2))\n",
    "        elif choice == '3':\n",
    "            print(num1, \"*\", num2, \"=\", multiply(num1, num2))\n",
    "        elif choice == '4':\n",
    "            print(num1, \"/\", num2, \"=\", divide(num1, num2))\n",
    "        break\n",
    "    else:\n",
    "        print(\"Invalid Input\")"
   ]
  }
 ],
 "metadata": {
  "kernelspec": {
   "display_name": "Python 3",
   "language": "python",
   "name": "python3"
  },
  "language_info": {
   "codemirror_mode": {
    "name": "ipython",
    "version": 3
   },
   "file_extension": ".py",
   "mimetype": "text/x-python",
   "name": "python",
   "nbconvert_exporter": "python",
   "pygments_lexer": "ipython3",
   "version": "3.8.5"
  }
 },
 "nbformat": 4,
 "nbformat_minor": 4
}
