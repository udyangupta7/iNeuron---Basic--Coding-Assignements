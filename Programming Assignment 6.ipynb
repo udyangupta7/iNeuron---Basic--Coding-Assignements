{
 "cells": [
  {
   "cell_type": "markdown",
   "metadata": {},
   "source": [
    "### Q1: Write a Python Program to Display Fibonacci Sequence Using Recursion?\n",
    "\n",
    "#### A1:"
   ]
  },
  {
   "cell_type": "code",
   "execution_count": 30,
   "metadata": {},
   "outputs": [
    {
     "name": "stdout",
     "output_type": "stream",
     "text": [
      "Enter the number of terms for the fibonacci sequence: 6\n",
      "Fibonacci sequence:\n",
      "0 1 1 2 3 5 "
     ]
    }
   ],
   "source": [
    "def fibo(n):\n",
    "    if n <= 1:\n",
    "        return n\n",
    "    else:\n",
    "        return(recur_fibo(n-1) + recur_fibo(n-2))\n",
    "nterms = int(input(\"Enter the number of terms for the fibonacci sequence: \"))\n",
    "if nterms <= 0:\n",
    "    print(\"Plese enter a positive integer\")\n",
    "else:\n",
    "    print(\"Fibonacci sequence:\")\n",
    "    for i in range(nterms):\n",
    "        print(fibo(i),end= \" \")"
   ]
  },
  {
   "cell_type": "markdown",
   "metadata": {},
   "source": [
    "### Q2:Write a Python Program to Find Factorial of Number Using Recursion?\n",
    "\n",
    "#### A2:"
   ]
  },
  {
   "cell_type": "code",
   "execution_count": 27,
   "metadata": {},
   "outputs": [
    {
     "name": "stdout",
     "output_type": "stream",
     "text": [
      "Enter the number of terms for the fibonacci sequence: 5\n",
      "Factorial of 5 is:- 120\n"
     ]
    }
   ],
   "source": [
    "def fact(n):\n",
    "    if n <= 1:\n",
    "        return n\n",
    "    else:\n",
    "        import math\n",
    "        return(math.factorial(nterms))\n",
    "    \n",
    "nterms = int(input(\"Enter the number of terms for the fibonacci sequence: \"))\n",
    "if nterms <= 0:\n",
    "    print(\"Please enter a positive integer\")\n",
    "else:\n",
    "    print(\"Factorial of\",nterms,\"is:-\",fact(i))"
   ]
  },
  {
   "cell_type": "markdown",
   "metadata": {},
   "source": [
    "### Q3: Write a Python Program to calculate your Body Mass Index?\n",
    "\n",
    "#### A3:"
   ]
  },
  {
   "cell_type": "code",
   "execution_count": 9,
   "metadata": {},
   "outputs": [
    {
     "name": "stdout",
     "output_type": "stream",
     "text": [
      "Enter height in meters: 1.58\n",
      "Enter weight in kilograms: 80\n",
      "Your BMI is: 32.0 and you are \n",
      "severely obese\n"
     ]
    }
   ],
   "source": [
    "height = float(input(\"Enter height in meters: \"))\n",
    "weight = float(input(\"Enter weight in kilograms: \"))\n",
    "bmi = round((weight/(height**2)),1) \n",
    "print(\"Your BMI is: {0} and you are \".format(bmi))\n",
    "if ( bmi < 16):\n",
    "    print(\"severely underweight\")\n",
    "elif ( bmi >= 16 and bmi < 18.5):\n",
    "    print(\"underweight\")\n",
    "elif ( bmi >= 18.5 and bmi < 25):\n",
    "    print(\"Healthy\")\n",
    "elif ( bmi >= 25 and bmi < 30):\n",
    "    print(\"obese\")\n",
    "elif ( bmi >=30):\n",
    "    print(\"severely obese\")"
   ]
  },
  {
   "cell_type": "markdown",
   "metadata": {},
   "source": [
    "### Q4: Write a Python Program to calculate the natural logarithm of any number?\n",
    "\n",
    "#### A4:"
   ]
  },
  {
   "cell_type": "code",
   "execution_count": 17,
   "metadata": {},
   "outputs": [
    {
     "name": "stdout",
     "output_type": "stream",
     "text": [
      "Enter a number:.\n",
      "Error is:  invalid literal for int() with base 10: '.'\n"
     ]
    }
   ],
   "source": [
    "try:\n",
    "    import math   \n",
    "    num = int(input(\"Enter a number:\"))\n",
    "    print(\"Log value of\",num,\"is:\", round(math.log(num),2))\n",
    "except (ZeroDivisionError,ValueError,Exception,ArithmeticError) as e:\n",
    "    print(\"Error is: \",e)"
   ]
  },
  {
   "cell_type": "markdown",
   "metadata": {},
   "source": [
    "### Q5: Write a Python Program for cube sum of first n natural numbers?\n",
    "\n",
    "#### A5:"
   ]
  },
  {
   "cell_type": "code",
   "execution_count": 24,
   "metadata": {},
   "outputs": [
    {
     "name": "stdout",
     "output_type": "stream",
     "text": [
      "Enter the range for the natural numbers: 5\n",
      "\n",
      "The sum  cube sum of natural numbers until 5 is: 225\n"
     ]
    }
   ],
   "source": [
    "range1 = int(input(\"Enter the range for the natural numbers: \")) \n",
    "g = 0\n",
    "for i in range(1,range1+1): \n",
    "    g += (i**3)\n",
    "print(\"\\nThe sum  cube sum of natural numbers until\",range1,\"is:\",g)"
   ]
  }
 ],
 "metadata": {
  "kernelspec": {
   "display_name": "Python 3",
   "language": "python",
   "name": "python3"
  },
  "language_info": {
   "codemirror_mode": {
    "name": "ipython",
    "version": 3
   },
   "file_extension": ".py",
   "mimetype": "text/x-python",
   "name": "python",
   "nbconvert_exporter": "python",
   "pygments_lexer": "ipython3",
   "version": "3.8.5"
  }
 },
 "nbformat": 4,
 "nbformat_minor": 4
}
