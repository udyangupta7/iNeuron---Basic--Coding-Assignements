{
 "cells": [
  {
   "cell_type": "markdown",
   "metadata": {},
   "source": [
    "Q1.\tWrite a Python program to convert kilometers to miles?\n",
    "\n",
    "A1:"
   ]
  },
  {
   "cell_type": "code",
   "execution_count": 6,
   "metadata": {},
   "outputs": [
    {
     "name": "stdout",
     "output_type": "stream",
     "text": [
      "Enter distance in kms:2\n",
      "Distance in miles is:- 1.2428\n"
     ]
    }
   ],
   "source": [
    "a = float(input(\"Enter distance in kms:\"))\n",
    "print(\"Distance in miles is:-\",(a*0.6214))"
   ]
  },
  {
   "cell_type": "markdown",
   "metadata": {},
   "source": [
    "Q2. Write a Python program to convert Celsius to Fahrenheit?\n",
    "\n",
    "A2:"
   ]
  },
  {
   "cell_type": "code",
   "execution_count": 16,
   "metadata": {},
   "outputs": [
    {
     "name": "stdout",
     "output_type": "stream",
     "text": [
      "Enter temperature in Celcius:- -6\n",
      "temperature in fahrenheit is:- 21.2 °F\n"
     ]
    }
   ],
   "source": [
    "a = float(input(\"Enter temperature in Celcius:- \"))\n",
    "print(\"temperature in fahrenheit is:-\",((a*1.8)+32),\"°F\")"
   ]
  },
  {
   "cell_type": "markdown",
   "metadata": {},
   "source": [
    "Q3. Write a Python program to display calendar?\n",
    "\n",
    "A3:"
   ]
  },
  {
   "cell_type": "code",
   "execution_count": 21,
   "metadata": {},
   "outputs": [
    {
     "name": "stdout",
     "output_type": "stream",
     "text": [
      "Enter year: 2021\n",
      "Enter month: 4\n",
      "\n",
      "      April 2021\n",
      "Mo Tu We Th Fr Sa Su\n",
      "          1  2  3  4\n",
      " 5  6  7  8  9 10 11\n",
      "12 13 14 15 16 17 18\n",
      "19 20 21 22 23 24 25\n",
      "26 27 28 29 30\n",
      "\n"
     ]
    }
   ],
   "source": [
    "import calendar\n",
    "yy = int(input(\"Enter year: \"))\n",
    "mm = int(input(\"Enter month: \"))\n",
    "print(\"\\n\",calendar.month(yy, mm))"
   ]
  },
  {
   "cell_type": "markdown",
   "metadata": {},
   "source": [
    "Q4. Write a Python program to solve quadratic equation?\n",
    "\n",
    "A4:"
   ]
  },
  {
   "cell_type": "code",
   "execution_count": 29,
   "metadata": {},
   "outputs": [
    {
     "name": "stdout",
     "output_type": "stream",
     "text": [
      "A quadratic equation is ax2 + bx + c = 0, where a, b and c are real numbers and a ≠ 0\n",
      "Enter a: 22\n",
      "Enter b: 22\n",
      "Enter c: 22\n",
      "The solution are (-0.5-0.8660254037844386j) and (-0.5+0.8660254037844386j)\n"
     ]
    }
   ],
   "source": [
    "import cmath  \n",
    "print(\"A quadratic equation is ax2 + bx + c = 0, where a, b and c are real numbers and a ≠ 0\")\n",
    "a = float(input('Enter a: '))  \n",
    "b = float(input('Enter b: '))  \n",
    "c = float(input('Enter c: '))  \n",
    "d = (b**2) - (4*a*c)\n",
    "s1 = (-b-cmath.sqrt(d))/(2*a)  \n",
    "s2 = (-b+cmath.sqrt(d))/(2*a)\n",
    "print('The solution are {0} and {1}'.format(s1,s2))   "
   ]
  },
  {
   "cell_type": "markdown",
   "metadata": {},
   "source": [
    "Q5. Write a Python program to swap two variables without temp variable?\n",
    "\n",
    "A5:"
   ]
  },
  {
   "cell_type": "code",
   "execution_count": 37,
   "metadata": {},
   "outputs": [
    {
     "name": "stdout",
     "output_type": "stream",
     "text": [
      "Entry 1:- ert\n",
      "Entry 2:- ewq\n",
      "\n",
      "Swapped Entries:- ewq , ert\n"
     ]
    }
   ],
   "source": [
    "d = str(input(\"Entry 1:- \"))\n",
    "e = str(input(\"Entry 2:- \"))\n",
    "d,e=e,d\n",
    "print(\"\\nSwapped Entries:-\",d,\",\",e)"
   ]
  }
 ],
 "metadata": {
  "kernelspec": {
   "display_name": "Python 3",
   "language": "python",
   "name": "python3"
  },
  "language_info": {
   "codemirror_mode": {
    "name": "ipython",
    "version": 3
   },
   "file_extension": ".py",
   "mimetype": "text/x-python",
   "name": "python",
   "nbconvert_exporter": "python",
   "pygments_lexer": "ipython3",
   "version": "3.8.5"
  }
 },
 "nbformat": 4,
 "nbformat_minor": 4
}
