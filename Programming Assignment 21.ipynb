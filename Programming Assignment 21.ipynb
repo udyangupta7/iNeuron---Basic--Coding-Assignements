{
 "cells": [
  {
   "cell_type": "markdown",
   "id": "ef1bba1c",
   "metadata": {},
   "source": [
    "# Programming Assignment 21\n",
    "\n",
    "#### Q1: Write a function that takes a list and a number as arguments. Add the number to the end of the list, then remove the first element of the list. The function should then return the updated list.\n",
    "\n",
    "Ex:\n",
    "\n",
    "i. next_in_line([5, 6, 7, 8, 9], 1) ➞ [6, 7, 8, 9, 1]\n",
    "\n",
    "ii. next_in_line([7, 6, 3, 23, 17], 10) ➞ [6, 3, 23, 17, 10]\n",
    "\n",
    "iii. next_in_line([1, 10, 20, 42 ], 6) ➞ [10, 20, 42, 6]\n",
    "\n",
    "iv. next_in_line([], 6) ➞ \"No list has been selected\"\n",
    "\n",
    "\n",
    "#### A1:"
   ]
  },
  {
   "cell_type": "code",
   "execution_count": 10,
   "id": "a75c20a4",
   "metadata": {},
   "outputs": [
    {
     "name": "stdout",
     "output_type": "stream",
     "text": [
      "Enter the range of list: 3\n",
      "Enter a number:1\n",
      "Enter a number:2\n",
      "Enter a number:3\n",
      "The list is [1, 2, 3]\n",
      "The list after removing the first index is: [2, 3]\n"
     ]
    }
   ],
   "source": [
    "def next_in_line():\n",
    "    upper = int(input(\"Enter the range of list: \"))\n",
    "    list_input = [int(input(\"Enter a number:\")) for x in range(upper)]\n",
    "    list_updated = []\n",
    "    for i in list_input:\n",
    "        if list_input.index(i) == 0: continue\n",
    "        else: list_updated.append(i)\n",
    "    print(\"The list is\",list_input)\n",
    "    print(\"The list after removing the first index is:\",list_updated)\n",
    "next_in_line()"
   ]
  },
  {
   "cell_type": "markdown",
   "id": "b95c7991",
   "metadata": {},
   "source": [
    "#### Q2: Create the function that takes a list of dictionaries and returns the sum of people's budgets.\n",
    "\n",
    "Ex:\n",
    "\n",
    "i. get_budgets:\n",
    "([{ \"name\": \"John\", \"age\": 21, \"budget\": 23000 },\n",
    "  { \"name\": \"Steve\",  \"age\": 32, \"budget\": 40000 },\n",
    "  { \"name\": \"Martin\",  \"age\": 16, \"budget\": 2700 }])   \n",
    "  ➞ 65700\n",
    "\n",
    "ii. get_budgets\n",
    "([{ \"name\": \"John\",  \"age\": 21, \"budget\": 29000 },\n",
    "  { \"name\": \"Steve\",  \"age\": 32, \"budget\": 32000 },\n",
    "  { \"name\": \"Martin\",  \"age\": 16, \"budget\": 1600 }])   \n",
    "  ➞ 62600\n",
    "\n",
    "\n",
    "#### A2:"
   ]
  },
  {
   "cell_type": "code",
   "execution_count": 16,
   "id": "748dd362",
   "metadata": {},
   "outputs": [
    {
     "name": "stdout",
     "output_type": "stream",
     "text": [
      "Enter total number of entries you want to make: 3\n",
      "enter the total key-value pairs in the dictionary: 3\n",
      "Enter Key: name\n",
      "Enter Values: 21\n",
      "Enter Key: Udyan \n",
      "Enter Values: 21\n",
      "Enter Key: name \n",
      "Enter Values: 32\n",
      "Enter Key: vastvikta\n",
      "Enter Values: 34\n",
      "Enter Key: name \n",
      "Enter Values: 45\n",
      "Enter Key: Udyan \n",
      "Enter Values: 34\n",
      "Enter Key: name \n",
      "Enter Values: 45\n",
      "Enter Key: red \n",
      "Enter Values: 45\n",
      "Enter Key: tre\n",
      "Enter Values: 45\n",
      "{'name': 21, 'Udyan ': 34, 'name ': 45, 'vastvikta': 34, 'red ': 45, 'tre': 45}\n"
     ]
    }
   ],
   "source": [
    "def get_budgets():\n",
    "    upper = int(input(\"Enter total number of entries you want to make: \"))\n",
    "    num = int(input(\"enter the total key-value pairs in the dictionary: \"))\n",
    "    d = {}\n",
    "    for y in range(upper):\n",
    "        for i in range(num):\n",
    "            keys = input(\"Enter Key: \") # here i have taken keys as strings\n",
    "            values = int(input(\"Enter Values: \")) # here i have taken values as integers\n",
    "            d[keys] = values\n",
    "    print(d)\n",
    "get_budgets()"
   ]
  },
  {
   "cell_type": "markdown",
   "id": "681f214c",
   "metadata": {},
   "source": [
    "#### Q3: Create a function that takes a string and returns a string with its letters in alphabetical order.\n",
    "\n",
    "Ex:\n",
    "\n",
    "i. alphabet_soup(\"hello\") ➞ \"ehllo\"\n",
    "\n",
    "ii. alphabet_soup(\"edabit\") ➞ \"abdeit\"\n",
    "\n",
    "iii. alphabet_soup(\"hacker\") ➞ \"acehkr\"\n",
    "\n",
    "iv. alphabet_soup(\"geek\") ➞ \"eegk\"\n",
    "\n",
    "v. alphabet_soup(\"javascript\") ➞ \"aacijprstv\"\n",
    "\n",
    "\n",
    "#### A3:"
   ]
  },
  {
   "cell_type": "code",
   "execution_count": 36,
   "id": "f18cf109",
   "metadata": {},
   "outputs": [
    {
     "name": "stdout",
     "output_type": "stream",
     "text": [
      "Enter a word: king shark\n",
      "The reverse of king shark is  aghikknrs\n"
     ]
    }
   ],
   "source": [
    "def alphabet_soup():\n",
    "    string_input = str(input(\"Enter a word: \"))\n",
    "    sorted_string = sorted(string_input)\n",
    "    final_string = \"\".join(sorted_string)\n",
    "    print(\"The reverse of\",string_input,\"is\",final_string)\n",
    "alphabet_soup()"
   ]
  },
  {
   "cell_type": "markdown",
   "id": "92b38d37",
   "metadata": {},
   "source": [
    "#### Q4: Suppose that you invest 10,000USDs for 10 years at an interest rate of 6% compounded monthly. What will be the value of your investment at the end of the 10 year period?\n",
    "\n",
    "Create a function that accepts the principal p, the term in years t, the interest rate r, and the number of compounding periods per year n. The function returns the value at the end of term rounded to the nearest cent.\n",
    "\n",
    "For example:\n",
    "\n",
    "compound_interest(10000, 10, 0.06, 12) ➞ 18193.97\n",
    "\n",
    "Note that the interest rate is given as a decimal and n=12 because with monthly compounding there are 12 periods per year. Compounding can also be done annually, quarterly, weekly, or daily.\n",
    "\n",
    "Ex:\n",
    "\n",
    "i. compound_interest(100, 1, 0.05, 1) ➞ 105.0\n",
    "\n",
    "ii. compound_interest(3500, 15, 0.1, 4) ➞ 15399.26\n",
    "\n",
    "iii. compound_interest(100000, 20, 0.15, 365) ➞ 2007316.26"
   ]
  },
  {
   "attachments": {
    "Screenshot%202021-10-18%20at%208.36.57%20PM.png": {
     "image/png": "[encoded data removed]"
    }
   },
   "cell_type": "markdown",
   "id": "95febe69",
   "metadata": {},
   "source": [
    "![Screenshot%202021-10-18%20at%208.36.57%20PM.png](attachment:Screenshot%202021-10-18%20at%208.36.57%20PM.png)\n",
    "\n",
    "#### A4:"
   ]
  },
  {
   "cell_type": "code",
   "execution_count": 63,
   "id": "e1af7e1d",
   "metadata": {},
   "outputs": [
    {
     "name": "stdout",
     "output_type": "stream",
     "text": [
      "The following program will calculate the Compund Interest.\n",
      "\n",
      "Enter the Principle amount: 100\n",
      "Enter the term: 1\n",
      "the interest rate r: 0.15\n",
      "number of compounding periods per year n: 1\n",
      "The Compund Interest is $ 115.0\n"
     ]
    }
   ],
   "source": [
    "def compound_interest():\n",
    "    print(\"The following program will calculate the Compund Interest.\\n\")\n",
    "    principle = int(input(\"Enter the Principle amount: \"))\n",
    "    term = int(input(\"Enter the term: \"))      \n",
    "    rate = float(input(\"the interest rate r: \"))\n",
    "    n_years = int(input(\"number of compounding periods per year n: \"))\n",
    "    compund_in = (principle*(1+(rate/n_years))**(n_years*term))\n",
    "    print(\"The Compund Interest is $\",round(compund_in,2))\n",
    "compound_interest()"
   ]
  },
  {
   "cell_type": "markdown",
   "id": "09a5668b",
   "metadata": {},
   "source": [
    "#### Q5: Write a function that takes a list of elements and returns only the integers.\n",
    "\n",
    "Ex:\n",
    "\n",
    "i. return_only_integer([9, 2, \"space\", \"car\", \"lion\", 16]) ➞ [9, 2, 16]\n",
    "\n",
    "ii. return_only_integer([\"hello\", 81, \"basketball\", 123, \"fox\"]) ➞ [81, 123]\n",
    "\n",
    "iii. return_only_integer([10, \"121\", 56, 20, \"car\", 3, \"lion\"]) ➞ [10, 56, 20, 3]\n",
    "\n",
    "iv. return_only_integer([\"String\",  True,  3.3,  1]) ➞ [1]\n",
    "\n",
    "#### A5:"
   ]
  },
  {
   "cell_type": "code",
   "execution_count": 66,
   "id": "47dc39ba",
   "metadata": {},
   "outputs": [
    {
     "name": "stdout",
     "output_type": "stream",
     "text": [
      "The list is: [9, 34, 2, 'space', 'car', 'lion', 16, 345, 'Hello']\n",
      "The integers in the list is: [9, 34, 2, 16, 345]\n"
     ]
    }
   ],
   "source": [
    "def return_only_integer():\n",
    "    data_list = [9, 34, 2, \"space\", \"car\", \"lion\", 16, 345, \"Hello\"]\n",
    "    empty_list = []\n",
    "    for i in data_list:\n",
    "        if type(i) == int:\n",
    "            empty_list.append(i)\n",
    "    print(\"The list is:\",data_list)\n",
    "    print(\"The integers in the list is:\",empty_list)\n",
    "return_only_integer()"
   ]
  }
 ],
 "metadata": {
  "kernelspec": {
   "display_name": "Python 3",
   "language": "python",
   "name": "python3"
  },
  "language_info": {
   "codemirror_mode": {
    "name": "ipython",
    "version": 3
   },
   "file_extension": ".py",
   "mimetype": "text/x-python",
   "name": "python",
   "nbconvert_exporter": "python",
   "pygments_lexer": "ipython3",
   "version": "3.8.8"
  }
 },
 "nbformat": 4,
 "nbformat_minor": 5
}
