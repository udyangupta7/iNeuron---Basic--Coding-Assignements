{
 "cells": [
  {
   "cell_type": "markdown",
   "id": "9ba242d2",
   "metadata": {},
   "source": [
    "#### Q1: Write a Python program to Extract Unique values dictionary values?\n",
    "\n",
    "#### A1:"
   ]
  },
  {
   "cell_type": "code",
   "execution_count": 47,
   "id": "f5c1c36b",
   "metadata": {},
   "outputs": [
    {
     "name": "stdout",
     "output_type": "stream",
     "text": [
      "The original dictionary is: \n",
      " {'abc': [5, 1, 6, 7], 'def': [4, 4, 2, 7], 'ghi': [6, 3, 5, 8], 'jkl': [1, 2, 4, 5]}\n",
      "\n",
      "The unique values list is: [1, 2, 3, 4, 5, 6, 7, 8]\n"
     ]
    }
   ],
   "source": [
    "test_dict = {'abc' : [5, 1, 6, 7],\n",
    "             'def' : [4, 4, 2, 7],\n",
    "             'ghi' : [6, 3, 5, 8],\n",
    "             'jkl' : [1, 2, 4, 5]}\n",
    "print(\"The original dictionary is: \\n\",test_dict)\n",
    "unique_values = list(sorted({i for x in test_dict.values() for i in x}))\n",
    "print(\"\")\n",
    "print(\"The unique values list is:\" ,unique_values)"
   ]
  },
  {
   "cell_type": "markdown",
   "id": "1ee2650f",
   "metadata": {},
   "source": [
    "#### Q2: Write a Python program to find the sum of all items in a dictionary?\n",
    "\n",
    "#### A2:\n"
   ]
  },
  {
   "cell_type": "code",
   "execution_count": 48,
   "id": "a8fa8d77",
   "metadata": {},
   "outputs": [
    {
     "name": "stdout",
     "output_type": "stream",
     "text": [
      "The dictionary is:\n",
      " {'a': 1, 'b': 2, 'c': 3, 'd': 4, 'e': 5}\n",
      "The sum of the values in the dictionary is: 15\n"
     ]
    }
   ],
   "source": [
    "dic = {'a':1, 'b': 2, 'c': 3,'d':4,'e':5}\n",
    "print(\"The dictionary is:\\n\",dic)\n",
    "add = 0\n",
    "for i in dic.values():\n",
    "    add += i\n",
    "print(\"The sum of the values in the dictionary is:\",add)"
   ]
  },
  {
   "cell_type": "markdown",
   "id": "a9eba834",
   "metadata": {},
   "source": [
    "#### Q3: Write a Python program to Merging two Dictionaries?\n",
    "\n",
    "#### A3:"
   ]
  },
  {
   "cell_type": "code",
   "execution_count": 49,
   "id": "d57ee83a",
   "metadata": {},
   "outputs": [
    {
     "name": "stdout",
     "output_type": "stream",
     "text": [
      "{'a': 1, 'b': 2, 'c': 3, 'd': 4, 'e': 5}\n"
     ]
    }
   ],
   "source": [
    "dict_1 = {'a':1, 'b': 2, 'c': 3,'d':4,'e':5}\n",
    "dict_2 = {'c': 3,'d':4,'e':5}\n",
    "print({**dict_1, **dict_2})"
   ]
  },
  {
   "cell_type": "markdown",
   "id": "fb1f36d0",
   "metadata": {},
   "source": [
    "#### Q4: Write a Python program to convert key-values list to flat dictionary?\n",
    "\n",
    "#### A4: \n",
    "\n"
   ]
  },
  {
   "cell_type": "code",
   "execution_count": 52,
   "id": "84d558ef",
   "metadata": {},
   "outputs": [
    {
     "name": "stdout",
     "output_type": "stream",
     "text": [
      "The dictionary is : \n",
      " {'month_num': [1, 2, 3, 4, 5, 6], 'name_of_month': ['Jan', 'Feb', 'March', 'Apr', 'May', 'June']}\n",
      "The flattened dictionary is: \n",
      " {1: 'Jan', 2: 'Feb', 3: 'March', 4: 'Apr', 5: 'May', 6: 'June'}\n"
     ]
    }
   ],
   "source": [
    "from itertools import product\n",
    "my_dict = {'month_num' : [1, 2, 3, 4, 5, 6], 'name_of_month' : ['Jan', 'Feb', 'March', 'Apr', 'May', 'June']}\n",
    "print(\"The dictionary is : \\n\",my_dict)\n",
    "my_result = dict(zip(my_dict['month_num'], my_dict['name_of_month']))\n",
    "print(\"The flattened dictionary is: \\n\",my_result)"
   ]
  },
  {
   "cell_type": "markdown",
   "id": "ccd57557",
   "metadata": {},
   "source": [
    "#### Q5: Write a Python program to insertion at the beginning in OrderedDict?\n",
    "\n",
    "#### A5:"
   ]
  },
  {
   "cell_type": "code",
   "execution_count": 53,
   "id": "5905af99",
   "metadata": {},
   "outputs": [
    {
     "name": "stdout",
     "output_type": "stream",
     "text": [
      "The dictionary is:\n",
      " OrderedDict([('Will', '1'), ('James', '2'), ('Rob', '4')])\n",
      "The resultant dictionary is:\n",
      " OrderedDict([('Mark', '7'), ('Will', '1'), ('James', '2'), ('Rob', '4')])\n"
     ]
    }
   ],
   "source": [
    "from collections import OrderedDict\n",
    "my_ordered_dict = OrderedDict([('Will', '1'), ('James', '2'), ('Rob', '4')])\n",
    "print(\"The dictionary is:\\n\",my_ordered_dict)\n",
    "my_ordered_dict.update({'Mark':'7'})\n",
    "my_ordered_dict.move_to_end('Mark', last = False)\n",
    "print(\"The resultant dictionary is:\\n\",my_ordered_dict)"
   ]
  },
  {
   "cell_type": "markdown",
   "id": "6bcc3e21",
   "metadata": {},
   "source": [
    "#### Q6: Write a Python program to check order of character in string using OrderedDict()?\n",
    "\n",
    "#### A6:"
   ]
  },
  {
   "cell_type": "code",
   "execution_count": 59,
   "id": "304390d3",
   "metadata": {},
   "outputs": [
    {
     "name": "stdout",
     "output_type": "stream",
     "text": [
      "The first string is: Study tonight\n",
      "The pattern will be: stu\n",
      "Checking order of character in string using OrderedDict(): False\n",
      "The first string is: Welcome\n",
      "The pattern will be: cm\n",
      "Checking order of character in string using OrderedDict(): True\n"
     ]
    }
   ],
   "source": [
    "from collections import OrderedDict \n",
    "def checkOrder(string, pattern): \n",
    "    dic = OrderedDict.fromkeys(string) \n",
    "    ptr = 0\n",
    "    for key,value in dic.items(): \n",
    "        if (key == pattern[ptr]): \n",
    "            ptr = ptr + 1\n",
    "        if (ptr == (len(pattern))): \n",
    "            return 'True'\n",
    "    return 'False'\n",
    "string = 'Study tonight'\n",
    "pattern = 'stu'\n",
    "print(\"The first string is:\",string)\n",
    "print(\"The pattern will be:\",pattern)\n",
    "print(\"Checking order of character in string using OrderedDict():\",checkOrder(string,pattern))\n",
    "string2= 'Welcome'\n",
    "pattern2= 'cm'\n",
    "print(\"The first string is:\",string2)\n",
    "print(\"The pattern will be:\",pattern2)\n",
    "print(\"Checking order of character in string using OrderedDict():\",checkOrder(string2,pattern2)) "
   ]
  },
  {
   "cell_type": "markdown",
   "id": "8a84928f",
   "metadata": {},
   "source": [
    "#### Q7: Write a Python program to sort Python Dictionaries by Key or Value?\n",
    "\n",
    "#### A7:\n",
    "\n",
    "a. Sorting by Key:"
   ]
  },
  {
   "cell_type": "code",
   "execution_count": 67,
   "id": "89257f62",
   "metadata": {},
   "outputs": [
    {
     "name": "stdout",
     "output_type": "stream",
     "text": [
      "1 89\n",
      "2 3\n",
      "3 0\n",
      "4 5\n"
     ]
    }
   ],
   "source": [
    "import collections\n",
    "d = {2:3, 1:89, 4:5, 3:0}\n",
    "od = collections.OrderedDict(sorted(d.items()))\n",
    "for k, v in od.items(): print(k, v)"
   ]
  },
  {
   "cell_type": "markdown",
   "id": "558a6729",
   "metadata": {},
   "source": [
    "b. Sorting by Value:"
   ]
  },
  {
   "cell_type": "code",
   "execution_count": 69,
   "id": "556d8660",
   "metadata": {},
   "outputs": [
    {
     "data": {
      "text/plain": [
       "{0: 0, 2: 1, 1: 2, 4: 3, 3: 4}"
      ]
     },
     "execution_count": 69,
     "metadata": {},
     "output_type": "execute_result"
    }
   ],
   "source": [
    "x = {1: 2, 3: 4, 4: 3, 2: 1, 0: 0}\n",
    "{k: v for k, v in sorted(x.items(), key=lambda item: item[1])}"
   ]
  }
 ],
 "metadata": {
  "kernelspec": {
   "display_name": "Python 3",
   "language": "python",
   "name": "python3"
  },
  "language_info": {
   "codemirror_mode": {
    "name": "ipython",
    "version": 3
   },
   "file_extension": ".py",
   "mimetype": "text/x-python",
   "name": "python",
   "nbconvert_exporter": "python",
   "pygments_lexer": "ipython3",
   "version": "3.8.8"
  }
 },
 "nbformat": 4,
 "nbformat_minor": 5
}
