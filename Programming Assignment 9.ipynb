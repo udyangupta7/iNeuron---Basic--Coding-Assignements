{
 "cells": [
  {
   "cell_type": "markdown",
   "id": "626f75e9",
   "metadata": {},
   "source": [
    "# Assignment 9:\n",
    "\n",
    "#### Q1: Write a Python program to check if the given number is a Disarium Number?\n",
    "\n",
    "#### A1:"
   ]
  },
  {
   "cell_type": "code",
   "execution_count": 23,
   "id": "1bc1ce48",
   "metadata": {},
   "outputs": [
    {
     "name": "stdout",
     "output_type": "stream",
     "text": [
      "Enter a number: 175\n",
      "175 is a disarium number\n"
     ]
    }
   ],
   "source": [
    "def digits(n):\n",
    "    l = 0\n",
    "    while(n > 0):\n",
    "        n = n//10\n",
    "        l = l+1\n",
    "    return l\n",
    "def Disarium(x,n):\n",
    "    Sum = 0\n",
    "    while(n > 0):\n",
    "        r = n%10\n",
    "        Sum +=(r**x)\n",
    "        x = x-1\n",
    "        n = n//10\n",
    "    return Sum\n",
    "n = int(input(\"Enter a number: \"))\n",
    "x = digits(n)\n",
    "m = Disarium(x,n)\n",
    "if(m == n):\n",
    "    print(n,\"is a disarium number\")\n",
    "else:\n",
    "    print(n,\"is not a disarium number\")"
   ]
  },
  {
   "cell_type": "markdown",
   "id": "bbd3f539",
   "metadata": {},
   "source": [
    "#### A2: Write a Python program to print all disarium numbers between 1 to 100?\n",
    "\n",
    "#### A2:"
   ]
  },
  {
   "cell_type": "code",
   "execution_count": 25,
   "id": "7eafbab9",
   "metadata": {},
   "outputs": [
    {
     "name": "stdout",
     "output_type": "stream",
     "text": [
      "Disarium numbers between 1 and 100 are\n",
      "1  2  3  4  5  6  7  8  9  89  "
     ]
    }
   ],
   "source": [
    "def calculateLength(n):\n",
    "    length = 0\n",
    "    while (n != 0):\n",
    "        length = length + 1\n",
    "        n = n // 10\n",
    "    return length\n",
    "def sumOfDigits(num):\n",
    "    rem = sum = 0\n",
    "    len = calculateLength(num)\n",
    "\n",
    "    while (num > 0):\n",
    "        rem = num % 10\n",
    "        sum = sum + (rem ** len)\n",
    "        num = num // 10\n",
    "        len = len - 1\n",
    "    return sum\n",
    "result = 0\n",
    "print(\"Disarium numbers between 1 and 100 are\")\n",
    "for i in range(1, 101):\n",
    "    result = sumOfDigits(i)\n",
    "\n",
    "    if (result == i):\n",
    "        print(i,end=\"  \")"
   ]
  },
  {
   "cell_type": "markdown",
   "id": "146547db",
   "metadata": {},
   "source": [
    "#### Q3: Write a Python program to check if the given number is Happy Number?\n",
    "\n",
    "#### A3:"
   ]
  },
  {
   "cell_type": "code",
   "execution_count": 28,
   "id": "f2887231",
   "metadata": {},
   "outputs": [
    {
     "name": "stdout",
     "output_type": "stream",
     "text": [
      "Enter a number: 82\n",
      "82 is a happy number\n"
     ]
    }
   ],
   "source": [
    "def isHappyNumber(num):\n",
    "    rem = sum = 0\n",
    "    while (num > 0):\n",
    "        rem = num % 10\n",
    "        sum = sum + (rem * rem)\n",
    "        num = num // 10\n",
    "    return sum\n",
    "num = int(input(\"Enter a number: \"))\n",
    "result = num\n",
    "while (result != 1 and result != 4):\n",
    "    result = isHappyNumber(result)\n",
    "if (result == 1):\n",
    "    print(num,\"is a happy number\")\n",
    "elif (result == 4):\n",
    "    print(num,\"is not a happy number\")"
   ]
  },
  {
   "cell_type": "markdown",
   "id": "4e6c9f0b",
   "metadata": {},
   "source": [
    "#### Q4: Write a Python program to print all happy numbers between 1 and 100?\n",
    "\n",
    "#### A4:"
   ]
  },
  {
   "cell_type": "code",
   "execution_count": 2,
   "id": "e6481d88",
   "metadata": {},
   "outputs": [
    {
     "name": "stdout",
     "output_type": "stream",
     "text": [
      "All happy numbers between 1 and 100: \n",
      "1 7 10 13 19 23 28 31 32 44 49 68 70 79 82 86 91 94 97 100 "
     ]
    }
   ],
   "source": [
    "def HappyNumber(num):\n",
    "    rem = sum = 0\n",
    "    while (num > 0):\n",
    "        rem = num % 10\n",
    "        sum = sum + (rem * rem)\n",
    "        num = num // 10\n",
    "    return sum\n",
    "print(\"All happy numbers between 1 and 100: \")\n",
    "for i in range(1, 101):\n",
    "    result = i\n",
    "    while (result != 1 and result != 4):\n",
    "        result = HappyNumber(result)\n",
    "    if (result == 1):\n",
    "        print(i,end=\" \")"
   ]
  },
  {
   "cell_type": "markdown",
   "id": "2fb50a62",
   "metadata": {},
   "source": [
    "#### Q5: Write a Python program to determine whether the given number is a Harshad Number?\n",
    "\n",
    "#### A5:"
   ]
  },
  {
   "cell_type": "code",
   "execution_count": 3,
   "id": "1cdbd220",
   "metadata": {},
   "outputs": [
    {
     "name": "stdout",
     "output_type": "stream",
     "text": [
      "Enter a number: 156\n",
      "156 is a harshad number\n"
     ]
    }
   ],
   "source": [
    "num = int(input(\"Enter a number: \"))\n",
    "rem = sum = 0\n",
    "n = num\n",
    "while (num > 0):\n",
    "    rem = num % 10\n",
    "    sum = sum + rem\n",
    "    num = num // 10\n",
    "if (n % sum == 0):\n",
    "    print(str(n) + \" is a harshad number\")\n",
    "else:\n",
    "    print(str(n) + \" is not a harshad number\")"
   ]
  },
  {
   "cell_type": "markdown",
   "id": "b15fed7b",
   "metadata": {},
   "source": [
    "#### Q6: Write a Python program to print all pronic numbers between 1 and 100?\n",
    "\n",
    "#### A6:"
   ]
  },
  {
   "cell_type": "code",
   "execution_count": 4,
   "id": "2b7c1ffd",
   "metadata": {},
   "outputs": [
    {
     "name": "stdout",
     "output_type": "stream",
     "text": [
      "Pronic numbers between 1 and 100: \n",
      "2 6 12 20 30 42 56 72 90 "
     ]
    }
   ],
   "source": [
    "def isPronicNumber(num):\n",
    "    flag = False\n",
    "    for j in range(1, num + 1):\n",
    "        if ((j * (j + 1)) == num):\n",
    "            flag = True\n",
    "            break\n",
    "    return flag\n",
    "print(\"Pronic numbers between 1 and 100: \");\n",
    "for i in range(1, 101):\n",
    "    if (isPronicNumber(i)):\n",
    "        print(i,end=\" \")"
   ]
  }
 ],
 "metadata": {
  "kernelspec": {
   "display_name": "Python 3",
   "language": "python",
   "name": "python3"
  },
  "language_info": {
   "codemirror_mode": {
    "name": "ipython",
    "version": 3
   },
   "file_extension": ".py",
   "mimetype": "text/x-python",
   "name": "python",
   "nbconvert_exporter": "python",
   "pygments_lexer": "ipython3",
   "version": "3.8.8"
  }
 },
 "nbformat": 4,
 "nbformat_minor": 5
}
