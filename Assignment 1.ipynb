{
 "cells": [
  {
   "cell_type": "markdown",
   "metadata": {},
   "source": [
    "# Q1: What are the differences between operators and values in the following:\n",
    "A1:"
   ]
  },
  {
   "cell_type": "markdown",
   "metadata": {},
   "source": [
    "i. 'hello’:"
   ]
  },
  {
   "cell_type": "markdown",
   "metadata": {},
   "source": [
    "A string is a sequence/combination of characters. ‘hello’ is a string of 5 characters, implying it will be stored in 5 indexes in Python. \n",
    "Strings help us save a combination of English alphabets in python for various purposes like input from the user, data from the coder, etc. \n",
    "To declare a string, we use ‘ ’  , “ ” or “““ ”””. We use triple quotes for declaring a multi-line string.\n",
    "\n",
    "Example:\n"
   ]
  },
  {
   "cell_type": "code",
   "execution_count": 78,
   "metadata": {},
   "outputs": [
    {
     "name": "stdout",
     "output_type": "stream",
     "text": [
      "Hello World.\n",
      "\n",
      "Udyan’s first Python assignemnt\n",
      "\n",
      "This is a multi-line string. Data Science has various streams sub-dividing it into a plethora of branches. \n",
      "\n",
      "Saving a string in a variable.\n"
     ]
    }
   ],
   "source": [
    "# Single quote string: \n",
    "\n",
    "print('Hello World.\\n')\n",
    "\n",
    "# Double quote string:\n",
    "\n",
    "print(\"Udyan’s first Python assignemnt\")\n",
    "\n",
    "# Multi line string:\n",
    "\n",
    "print(\"\"\"\n",
    "This is a multi-line string. Data Science has various streams sub-dividing it into a plethora of branches. \n",
    "\"\"\")\n",
    "\n",
    "# String with an declared object: \n",
    "\n",
    "c = 'Saving a string in a variable.' \n",
    "print(c)\n"
   ]
  },
  {
   "cell_type": "markdown",
   "metadata": {},
   "source": [
    "ii. * :"
   ]
  },
  {
   "cell_type": "markdown",
   "metadata": {},
   "source": [
    "An asterisk (*) is the multiplication operator in python that helps us multiply two (or more) integer or float type operands. \n",
    "We can also use the * operator to output a string type operand. It won’t multiply the said string but it will repeat the said string as many number of times as we instruct it to.\n",
    "\n",
    "Example:"
   ]
  },
  {
   "cell_type": "code",
   "execution_count": 27,
   "metadata": {},
   "outputs": [
    {
     "name": "stdout",
     "output_type": "stream",
     "text": [
      "72 16619.360736600003 stringstringstring\n"
     ]
    }
   ],
   "source": [
    "a = 8*9\n",
    "\n",
    "b = 82.14*5.55*36.4558\n",
    "print(a,b,\"string\" *3)"
   ]
  },
  {
   "cell_type": "markdown",
   "metadata": {},
   "source": [
    "iii. -87.8:"
   ]
  },
  {
   "cell_type": "markdown",
   "metadata": {},
   "source": [
    "Is a negative float type value. We can save it in a variable for further operations like multiplication using the * operator with another int/float value. \n",
    "\n",
    "Example:"
   ]
  },
  {
   "cell_type": "code",
   "execution_count": 32,
   "metadata": {},
   "outputs": [
    {
     "name": "stdout",
     "output_type": "stream",
     "text": [
      "-87.8 -351.2 -43.9\n"
     ]
    }
   ],
   "source": [
    "a = -87.8\n",
    "b = -87.8*4\n",
    "c =  -87.8/2\n",
    "print(a,b,c)"
   ]
  },
  {
   "cell_type": "markdown",
   "metadata": {},
   "source": [
    "iv. - :"
   ]
  },
  {
   "cell_type": "markdown",
   "metadata": {},
   "source": [
    "This operator will Subtract right operand from the left or unary minus (where the (unary minus) operator negates the value of the operand. The operand can have any arithmetic type).\n",
    "\n",
    "Example:"
   ]
  },
  {
   "cell_type": "code",
   "execution_count": 52,
   "metadata": {},
   "outputs": [
    {
     "name": "stdout",
     "output_type": "stream",
     "text": [
      "4\n",
      "36\n",
      "35\n"
     ]
    }
   ],
   "source": [
    "a = 9 - 5\n",
    "print(a)\n",
    "\n",
    "x = 90\n",
    "y = 54\n",
    "print(x-y)\n",
    "print(x-y-1)"
   ]
  },
  {
   "cell_type": "markdown",
   "metadata": {},
   "source": [
    "v. / :"
   ]
  },
  {
   "cell_type": "markdown",
   "metadata": {},
   "source": [
    "The / operator divides left operand by the right operand and will always results into a float type value.\n",
    "\n",
    "Example:"
   ]
  },
  {
   "cell_type": "code",
   "execution_count": 60,
   "metadata": {},
   "outputs": [
    {
     "name": "stdout",
     "output_type": "stream",
     "text": [
      "0.889\n",
      "1.7119623368285897\n",
      "1.6666666666666667\n"
     ]
    }
   ],
   "source": [
    "a = 8/9\n",
    "print(round(a,3)) # round() fucntion rounds values to the 3rd decimal point.\n",
    "\n",
    "x=4\n",
    "y=2.3365\n",
    "print(x/y)\n",
    "\n",
    "print(5/3)"
   ]
  },
  {
   "cell_type": "markdown",
   "metadata": {},
   "source": [
    "vi. + :"
   ]
  },
  {
   "cell_type": "markdown",
   "metadata": {},
   "source": [
    "The + operator adds two operands or a unary plus.\n",
    "\n",
    "Example:"
   ]
  },
  {
   "cell_type": "code",
   "execution_count": 64,
   "metadata": {},
   "outputs": [
    {
     "name": "stdout",
     "output_type": "stream",
     "text": [
      "64\n",
      "5\n",
      "21\n"
     ]
    }
   ],
   "source": [
    "a = 58+6\n",
    "print(a)\n",
    "print(2+3)\n",
    "\n",
    "x=y=z=7\n",
    "c = x+y+z\n",
    "print(c)"
   ]
  },
  {
   "cell_type": "markdown",
   "metadata": {},
   "source": [
    "vii. 6 :"
   ]
  },
  {
   "cell_type": "markdown",
   "metadata": {},
   "source": [
    "This is an integer type value (without any decimal places) that usually is either manipulated with another int integer value or a float type (values with decimals) value. We can either ask the user for an input or we can declare it in a variable in the code itself.\n",
    "\n",
    "Example:"
   ]
  },
  {
   "cell_type": "code",
   "execution_count": 103,
   "metadata": {},
   "outputs": [
    {
     "name": "stdout",
     "output_type": "stream",
     "text": [
      "36\n",
      "9\n",
      "Enter a value: 23\n",
      "Enter another value: 23\n",
      "sum of the values is: 46\n"
     ]
    }
   ],
   "source": [
    "a = 6*6\n",
    "print(a)\n",
    "print(3*3)\n",
    "b = int(input(\"Enter a value: \"))\n",
    "c = int(input(\"Enter another value: \"))\n",
    "a=b+c\n",
    "print(\"sum of the values is:\", a)     "
   ]
  },
  {
   "cell_type": "markdown",
   "metadata": {},
   "source": [
    "# Q2: What is the difference between string and variable?\n",
    "A2:"
   ]
  },
  {
   "cell_type": "markdown",
   "metadata": {},
   "source": [
    "i. Strings:  A string is a sequence/combination of characters. One character will simply be a symbol. The English language has 26 characters. Computers do not deal with the said characters. They deal with binary numbers – 0 and 1. Even though you may see characters on your screen, internally it is being stored and manipulated as a combination of 0s and 1s. Strings in python are surrounded by either single quotation marks, or double quotation marks. A triple quotation marks can be used in case of multi-line string.\n",
    "\n",
    "‘hello world’ is the same as “hello world” or “““hello world”””.\n",
    "\n",
    "You can display string literals with the print() function as follows:\n"
   ]
  },
  {
   "cell_type": "code",
   "execution_count": 104,
   "metadata": {},
   "outputs": [
    {
     "name": "stdout",
     "output_type": "stream",
     "text": [
      "hello\n",
      "It’s a world full of possibilities for Artificial Intelligence!\n",
      "\n",
      "\n",
      "AI is the next big thing that everyone should be talking about. There are many, many applications for it and multiple tech-giants are using it to build prodcuts like self driving cars, self-check out at amazon, self-check in kisosks at the airports, etc.\n",
      "\n"
     ]
    }
   ],
   "source": [
    "print('hello')\n",
    "\n",
    "print(\"It’s a world full of possibilities for Artificial Intelligence!\") \n",
    "\n",
    "print(\"\"\"\n",
    "\n",
    "AI is the next big thing that everyone should be talking about. There are many, many applications for it and multiple tech-giants are using it to build prodcuts like self driving cars, self-check out at amazon, self-check in kisosks at the airports, etc.\n",
    "\"\"\")\n"
   ]
  },
  {
   "cell_type": "markdown",
   "metadata": {},
   "source": [
    "ii. Variables: Variables are created when you create a variable you reserve some space in memory. Python has no specific command for declaring a variable. A variable is created the moment you first assign a value to it. Based on the data type of a variable, the interpreter allocates memory and decides what can be stored in the reserved memory. Thus, by assigning different data types to variables, you can store integers, decimals or characters (or a combination of the three) in these variables.\n",
    "\n",
    "Example:"
   ]
  },
  {
   "cell_type": "code",
   "execution_count": 105,
   "metadata": {},
   "outputs": [
    {
     "name": "stdout",
     "output_type": "stream",
     "text": [
      "500\n",
      "John bought a great silk robe for his graduation\n"
     ]
    }
   ],
   "source": [
    "x = 500\n",
    "y = \"John bought a great silk robe for his graduation\"\n",
    "print(x)\n",
    "print(y)"
   ]
  },
  {
   "cell_type": "markdown",
   "metadata": {},
   "source": [
    "# Q3: Describe three different data forms:\n",
    "A3:\n"
   ]
  },
  {
   "cell_type": "markdown",
   "metadata": {},
   "source": [
    "They are:\n",
    "\n",
    "a.\tFloat: they are used when we need to work with and manipulate numbers with decimal values. They are used to store data like one’s bank balance, student’s fees, etc. \n",
    "\n",
    "Example:\n"
   ]
  },
  {
   "cell_type": "code",
   "execution_count": 83,
   "metadata": {},
   "outputs": [
    {
     "name": "stdout",
     "output_type": "stream",
     "text": [
      "John’s robe after discount is exactly 24.99 $\n"
     ]
    }
   ],
   "source": [
    "x = 24.99\n",
    "print(\"John’s robe after discount is exactly\",x,\"$\")"
   ]
  },
  {
   "cell_type": "markdown",
   "metadata": {},
   "source": [
    "b. Int: such data types are used when we have to work with a whole number. They are used to store numbers without any decimals places like a student’s roll number, his admission number, etc.\n",
    "\n",
    "Example:"
   ]
  },
  {
   "cell_type": "code",
   "execution_count": 84,
   "metadata": {},
   "outputs": [
    {
     "name": "stdout",
     "output_type": "stream",
     "text": [
      "John’s student number is: 300136428\n"
     ]
    }
   ],
   "source": [
    "y = 300136428\n",
    "print(\"John’s student number is:\",y)"
   ]
  },
  {
   "cell_type": "markdown",
   "metadata": {},
   "source": [
    "c. Boolean: Booleans represent either of the two values: True or False. In (any) programming, you often need to know if an expression is True or False. You can evaluate any expression in Python, and get one of two answers, True or False. When you compare two values, the expression is evaluated and Python returns the Boolean answer.\n",
    "        \n",
    "Example:"
   ]
  },
  {
   "cell_type": "code",
   "execution_count": 87,
   "metadata": {},
   "outputs": [
    {
     "name": "stdout",
     "output_type": "stream",
     "text": [
      "True\n",
      "False\n",
      "False\n"
     ]
    }
   ],
   "source": [
    "print(10 > 9)\n",
    "print(10 == 9)\n",
    "print(10 < 9)"
   ]
  },
  {
   "cell_type": "markdown",
   "metadata": {},
   "source": [
    "We can also use boolean logic in loops like if-else, nested if-elif-else, etc. \n",
    "Example:\n"
   ]
  },
  {
   "cell_type": "code",
   "execution_count": 88,
   "metadata": {},
   "outputs": [
    {
     "name": "stdout",
     "output_type": "stream",
     "text": [
      "b is not greater than a\n"
     ]
    }
   ],
   "source": [
    "a = 200\n",
    "b = 33\n",
    "if b > a:\n",
    "  print(\"b is greater than a\")\n",
    "elif a==b:\n",
    "    print(\"a is equal to b\")\n",
    "else:\n",
    "  print(\"b is not greater than a\")"
   ]
  },
  {
   "cell_type": "markdown",
   "metadata": {},
   "source": [
    "# Q4: What makes up an expression? What are the functions of all expressions?\n",
    "A4:"
   ]
  },
  {
   "cell_type": "markdown",
   "metadata": {},
   "source": [
    "Expressions contain identifiers, literals and operators where operators include arithmetic and/or Boolean operators, the function call operator () the subscription operator [] and similarly, can be reduced to some kind of value, which can be an object in Python. Metacharacters, Special Sequencing, Sets and other such features can be used to form an expression.\n",
    "\n",
    "Example:"
   ]
  },
  {
   "cell_type": "code",
   "execution_count": 89,
   "metadata": {},
   "outputs": [
    {
     "name": "stdout",
     "output_type": "stream",
     "text": [
      "233\n"
     ]
    }
   ],
   "source": [
    "a = 200\n",
    "b = 33\n",
    "print(a+b)"
   ]
  },
  {
   "cell_type": "markdown",
   "metadata": {},
   "source": [
    "# Q5: In this chapter, assignment statements such as spam = 10 were added. What's the difference between a declaration and an expression?\n",
    "A5:"
   ]
  },
  {
   "cell_type": "markdown",
   "metadata": {},
   "source": [
    "a. Declaration: Declaring a variable means permanently assigning it to a data type. Declaration of variables is not required in Python. If there is need of a variable, you may think of a name and start using it as a variable. Another remarkable aspect of Python is that not only the value of a variable can change during program execution but the type of the said variable can change as well. You can assign an integer value to a variable, use it as an integer for a while and then assign a string to the variable.\n",
    "    \n",
    "Example:"
   ]
  },
  {
   "cell_type": "code",
   "execution_count": 90,
   "metadata": {},
   "outputs": [
    {
     "name": "stdout",
     "output_type": "stream",
     "text": [
      "31\n"
     ]
    }
   ],
   "source": [
    "i = 30  \n",
    "i += 1\n",
    "print(i)"
   ]
  },
  {
   "cell_type": "markdown",
   "metadata": {},
   "source": [
    "b. Expression: You can create simple or complex expressions by combining (one or multiple) objects and operators. In Python, operators are special symbols which designate that some sort of computation should be performed. The values that an operator acts on are called operands. A sequence of operands and operators, like a + b - 5, is called an expression. Python supports many operators for combining data objects into expressions using arithmetic operators, comparison operators, identity operators, logical operators, etc. \n",
    "    \n",
    "Example:"
   ]
  },
  {
   "cell_type": "code",
   "execution_count": 91,
   "metadata": {},
   "outputs": [
    {
     "name": "stdout",
     "output_type": "stream",
     "text": [
      "233\n"
     ]
    }
   ],
   "source": [
    "a = 200\n",
    "b = 33\n",
    "print(a+b)"
   ]
  },
  {
   "cell_type": "markdown",
   "metadata": {},
   "source": [
    "# Q6. After running the following code, what does the variable bacon contain?\n",
    "\n",
    "bacon = 22\n",
    "\n",
    "bacon + 1\n",
    "\n",
    "A6:"
   ]
  },
  {
   "cell_type": "markdown",
   "metadata": {},
   "source": [
    "The value of the variable bacon will be still 22 as we have not assigned bacon + 1 using the arithmetic operator to bacon."
   ]
  },
  {
   "cell_type": "code",
   "execution_count": 5,
   "metadata": {},
   "outputs": [
    {
     "data": {
      "text/plain": [
       "23"
      ]
     },
     "execution_count": 5,
     "metadata": {},
     "output_type": "execute_result"
    }
   ],
   "source": [
    "bacon = 22\n",
    "bacon + 1"
   ]
  },
  {
   "cell_type": "markdown",
   "metadata": {},
   "source": [
    "# Q7. What should the values of the following two terms be?\n",
    "\n",
    "'spam' + 'spamspam'\n",
    "\n",
    "'spam' * 3\n",
    "\n",
    "A7:\n"
   ]
  },
  {
   "cell_type": "markdown",
   "metadata": {},
   "source": [
    "Both the expressions will output: 'spamspamspam'\n",
    "\n",
    "However:\n",
    "\n",
    "a.\t'spam' + 'spamspam' is string concatenation.\n",
    "\n",
    "b.\t'spam' * 3 is the multiplication of a string using the mathematical operator."
   ]
  },
  {
   "cell_type": "code",
   "execution_count": 95,
   "metadata": {},
   "outputs": [
    {
     "data": {
      "text/plain": [
       "'spamspamspam'"
      ]
     },
     "execution_count": 95,
     "metadata": {},
     "output_type": "execute_result"
    }
   ],
   "source": [
    "'spam' + 'spamspam' # string concatenation\n",
    "\n",
    "'spam' * 3 # using mathematical operator"
   ]
  },
  {
   "cell_type": "markdown",
   "metadata": {},
   "source": [
    "# Q8. Why is it that eggs is a true variable name but 100 is not?\n",
    "A8:\n"
   ]
  },
  {
   "cell_type": "markdown",
   "metadata": {},
   "source": [
    "eggs is a true variable whilst 100 is not name because the former follows the rules of variable naming nomenclature which clearly states that:\n",
    "\n",
    "    a. variable name cannot start with a number.\n",
    "    \n",
    "    b. A variable name must start with a letter or the underscore character. (A-z or _)\n",
    "    \n",
    "    c. A variable name can only contain alpha-numeric characters and underscores (A-z, 0-9, and _)\n",
    "    \n",
    "    d. Variable names are case-sensitive. (myvariable, Myvariable, MyVariable and MYVARIABLE are four different variables.)\n"
   ]
  },
  {
   "cell_type": "markdown",
   "metadata": {},
   "source": [
    "# Q9: Which of the following three functions may be used to convert a value to an integer, a floating-point number, or a string?\n",
    "A9:\n"
   ]
  },
  {
   "cell_type": "markdown",
   "metadata": {},
   "source": [
    "The three functions are used to cast (explicit conversion type*) are used to cast one data type into another. They are: \n",
    "    \n",
    "    a.int() type function is used to specify integer literal. This function can be used to cast into an integer number from a string literal or Float.\n",
    "    \n",
    "    b. str() type function is used to specify the string literal. This function can be used to cast into a string from an integer literal or float literal.\n",
    "    \n",
    "    c. float() type function is used to specify the float data types. This function can be used to cast into a float literal from integer or string literal.\n",
    "\n",
    "\n",
    "Two other typecasting functions are boolean() and complex().\n",
    "\n",
    "You can’t convert complex datatype to int.\n",
    "    \n",
    "    \n",
    "explicit conversion type*: When Python cannot typecast the data on its own and users convert the data type of an object to required data type. This type of conversion is also called typecasting because the user casts (changes) the data type of the objects. Sometimes, it is also called downcasting\n",
    "\n",
    "Note 1: In some cases, Python can automatically convert one data type to another data type. That is implicit conversion type This process doesn't need any user involvement.\n",
    "\n",
    "explicit conversion type using functions can be done as follows:"
   ]
  },
  {
   "cell_type": "code",
   "execution_count": 2,
   "metadata": {},
   "outputs": [
    {
     "name": "stdout",
     "output_type": "stream",
     "text": [
      "1: converting to integer type:\n",
      "19\n",
      "1\n",
      "0\n",
      "123\n",
      "\n",
      "\n",
      "2: converting to floating type:\n",
      "12.0\n",
      "1.0\n",
      "0.0\n",
      "123.0\n",
      "\n",
      "\n",
      "3: converting to boolean type:\n",
      "True\n",
      "False\n",
      "True\n",
      "False\n",
      "\n",
      "\n",
      "4: converting to string type:\n",
      "123\n",
      "12.98\n",
      "[10, 20, 30]\n"
     ]
    }
   ],
   "source": [
    "#1. Converting to integer type using int()\n",
    "\n",
    "print(\"1: converting to integer type:\")\n",
    "print(int(19.45)) # float to int\n",
    "print(int(True)) # bool to int\n",
    "print(int(False)) # bool to int\n",
    "print(\"123\") # str to int\n",
    "print('\\n')\n",
    "\n",
    "#2. Converting to float type using float()\n",
    "print(\"2: converting to floating type:\")\n",
    "print(float(12)) # int to float\n",
    "print(float(True)) # bool to float\n",
    "print(float(False)) # bool to float\n",
    "print(float(\"123\")) # string to float\n",
    "print('\\n')\n",
    "\n",
    "#3. Converting to bool type using bool()\n",
    "print(\"3: converting to boolean type:\")\n",
    "print(bool(12)) # integer to bool\n",
    "print(bool(0.0)) # float to bool\n",
    "print(bool([1,2,3])) # list to bool\n",
    "print(bool()) # tuple to bool\n",
    "print('\\n')\n",
    "\n",
    "#4. Converting to string type using str()\n",
    "print(\"4: converting to string type:\")\n",
    "print(str(123))  # integer to string\n",
    "print(str(12.98)) # float to string\n",
    "print(str([10, 20, 30])) # list to stringS"
   ]
  },
  {
   "cell_type": "markdown",
   "metadata": {},
   "source": [
    "Note 2: # (hashtags) are used to denote the start of a comment in Python."
   ]
  },
  {
   "cell_type": "markdown",
   "metadata": {},
   "source": [
    "# Q10. What is the error caused by this expression? What would you do about it?\n",
    "'I have eaten ' + 99 + ' burritos.'\n",
    "\n",
    "A10:\n"
   ]
  },
  {
   "cell_type": "markdown",
   "metadata": {},
   "source": [
    "The error caused by the expression above is:\n",
    "\n",
    "            TypeError: can only concatenate str (not \"int\") to str \n",
    "which means that the int type value 99 cannot be added to the string unless we are typecasting it to a string using the str() function.\n",
    "\n",
    "We can correct the error by performing the following correction:"
   ]
  },
  {
   "cell_type": "code",
   "execution_count": 102,
   "metadata": {},
   "outputs": [
    {
     "data": {
      "text/plain": [
       "'I have eaten 99 burritos.'"
      ]
     },
     "execution_count": 102,
     "metadata": {},
     "output_type": "execute_result"
    }
   ],
   "source": [
    "'I have eaten ' + str(99) + ' burritos.'"
   ]
  }
 ],
 "metadata": {
  "kernelspec": {
   "display_name": "Python 3",
   "language": "python",
   "name": "python3"
  },
  "language_info": {
   "codemirror_mode": {
    "name": "ipython",
    "version": 3
   },
   "file_extension": ".py",
   "mimetype": "text/x-python",
   "name": "python",
   "nbconvert_exporter": "python",
   "pygments_lexer": "ipython3",
   "version": "3.8.5"
  }
 },
 "nbformat": 4,
 "nbformat_minor": 4
}
