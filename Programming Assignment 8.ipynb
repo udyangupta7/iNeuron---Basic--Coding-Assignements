{
 "cells": [
  {
   "cell_type": "markdown",
   "id": "f67f76e8",
   "metadata": {},
   "source": [
    "# Assignment 8\n",
    "\n",
    "Note: I am using list comprehension in the code below because of the following features of list comprehension:\n",
    "\n",
    "1. It is more time efficient and space efficient than loops.\n",
    "2. It requires fewer lines of code, hence saving space and is executed faster.\n",
    "3. Transforms iterative statements into a formula.\n",
    "\n",
    "### Q1: Write a Python Program to Add Two Matrices?\n",
    "\n",
    "### A1:"
   ]
  },
  {
   "cell_type": "code",
   "execution_count": 1,
   "id": "839bc6fb",
   "metadata": {},
   "outputs": [
    {
     "name": "stdout",
     "output_type": "stream",
     "text": [
      "disclaimer: the size of the second matrix will be the same as the first one! \n",
      "\n",
      "Enter the number of rows : 1\n",
      "Enter the number of columns: 5\n",
      "Enter the elements of first matrix:\n",
      "1\n",
      "2\n",
      "3\n",
      "4\n",
      "5\n",
      "\n",
      "The first matrix is: \n",
      "[1, 2, 3, 4, 5]\n",
      "\n",
      "Enter the elements of the second matrix:\n",
      "5\n",
      "4\n",
      "3\n",
      "2\n",
      "1\n",
      "\n",
      "The second matrix is: \n",
      "[5, 4, 3, 2, 1]\n",
      "\n",
      "The Sum of the two matrices is: \n",
      "[6, 6, 6, 6, 6]\n"
     ]
    }
   ],
   "source": [
    "print(\"disclaimer: the size of the second matrix will be the same as the first one! \\n\")\n",
    "\n",
    "rows = int(input(\"Enter the number of rows : \" ))\n",
    "columns = int(input(\"Enter the number of columns: \"))\n",
    "print(\"Enter the elements of first matrix:\")\n",
    "matrix_1 = [[int(input()) for i in range(columns)] for i in range(rows)]\n",
    "print(\"\\nThe first matrix is: \")\n",
    "for n in matrix_1:\n",
    "    print(n)\n",
    "\n",
    "print(\"\\nEnter the elements of the second matrix:\")\n",
    "matrix_2 = [[int(input()) for i in range(columns)] for i in range(rows)]\n",
    "print(\"\\nThe second matrix is: \")\n",
    "for n in matrix_2:\n",
    "    print(n)\n",
    "    \n",
    "mat_add = [[0 for i in range(columns)] for i in range(rows)]\n",
    "\n",
    "for i in range(rows):\n",
    "    for j in range(columns):\n",
    "        mat_add[i][j] = matrix_1[i][j]+matrix_2[i][j]\n",
    "\n",
    "print('\\nThe Sum of the two matrices is: ')\n",
    "for r in mat_add:\n",
    "    print(r)"
   ]
  },
  {
   "cell_type": "markdown",
   "id": "489ecfbd",
   "metadata": {},
   "source": [
    "### Q2: Write a Python Program to Multiply Two Matrices?\n",
    "\n",
    "### A2:"
   ]
  },
  {
   "cell_type": "code",
   "execution_count": null,
   "id": "f0787c13",
   "metadata": {},
   "outputs": [],
   "source": [
    "# print(\"WELCOME. CHOOSE 1 FOR A SCALAR MULTIPLICAION OR 2 FOR MULTIPLYING TWO MATRICES:\")\n",
    "while True:\n",
    "    choice = int(input('\\nEnter 1 or 2: '))\n",
    "    if choice == 1 or choice == 2:\n",
    "        break\n",
    "    else:\n",
    "        print(\"Wrong entry. Choose only between 1 or 2! \\n\")\n",
    "        continue\n",
    "if choice == 1:\n",
    "    rows = int(input(\"Enter the number of rows : \" ))\n",
    "    columns = int(input(\"Enter the number of columns: \"))\n",
    "    print(\"Enter the elements of the matrix:\")\n",
    "    matrix = [[int(input()) for i in range(columns)] for i in range(rows)]\n",
    "    print(\"\\nThe matrix is: \")\n",
    "    for n in matrix:\n",
    "        print(n)\n",
    "    print(\"Enter the number to be multiplied with the matrix: \")\n",
    "    num = int(input(\"Enter a number: \"))\n",
    "    mat_scalar = [[num*matrix[i][j] for i in range(rows)] for j in range(columns)]\n",
    "    print('\\nThe scalar matrix is: ')\n",
    "    for r in mat_scalar:\n",
    "        print(r)\n",
    "if choice == 2:\n",
    "    print(\"\\nDISCLAIMER: the size of the second matrix will be the same as the first one! \\n\")\n",
    "\n",
    "    rows = int(input(\"Enter the number of rows : \" ))\n",
    "    columns = int(input(\"Enter the number of columns: \"))\n",
    "\n",
    "    print(\"Enter the elements of first matrix:\")\n",
    "    matrix_1 = [[int(input()) for i in range(columns)] for i in range(rows)]\n",
    "    \n",
    "    print(\"\\nEnter the elements of the second matrix:\")\n",
    "    matrix_2 = [[int(input()) for i in range(columns)] for i in range(rows)]\n",
    "    print(\"\\nThe first matrix is: \")\n",
    "    for n in matrix_1:\n",
    "        print(n)\n",
    "    print(\"\\nThe second matrix is: \")\n",
    "    for n in matrix_2:\n",
    "        print(n)\n",
    "\n",
    "    result = [[0 for i in range(columns)] for i in range(rows)]\n",
    "\n",
    "    for i in range(len(matrix_1)):\n",
    "        for j in range(len(matrix_2)):\n",
    "            for k in range(len(matrix_2)):\n",
    "                result[i][j] += matrix_1[i][k] * matrix_2[k][j]\n",
    "    print(\"\\nThe multiplied matrix is: \")\n",
    "    for r in result:\n",
    "        print(r)`"
   ]
  },
  {
   "cell_type": "markdown",
   "id": "bf88e9e6",
   "metadata": {},
   "source": [
    "### Q3: Write a Python Program to Transpose a Matrix?\n",
    "\n",
    "### A3:"
   ]
  },
  {
   "cell_type": "code",
   "execution_count": null,
   "id": "f0f07816",
   "metadata": {},
   "outputs": [],
   "source": [
    "rows = int(input(\"Enter the number of rows : \" ))\n",
    "columns = int(input(\"Enter the number of columns: \"))\n",
    "print(\"Enter the elements of first matrix:\")\n",
    "matrix = [[int(input()) for i in range(columns)] for i in range(rows)]\n",
    "print(\"\\nThe matrix is: \")\n",
    "for n in matrix:\n",
    "    print(n)\n",
    "transpose = [[matrix[j][i] for j in range(len(matrix))] for i in range(len(matrix[0]))]\n",
    "print(\"\\nthe transpose of the matrix is:\")\n",
    "for m in transpose:\n",
    "    print(m)"
   ]
  },
  {
   "cell_type": "markdown",
   "id": "f2a56312",
   "metadata": {},
   "source": [
    "### Q4: Write a Python Program to Sort Words in Alphabetic Order?\n",
    "\n",
    "### A4:"
   ]
  },
  {
   "cell_type": "code",
   "execution_count": 8,
   "id": "681882ba",
   "metadata": {},
   "outputs": [
    {
     "name": "stdout",
     "output_type": "stream",
     "text": [
      "Enter a string: THIS IS WHAT YOU CAME FOR, LIGHNING STRIKES EVERYTIME SHE MOVES.\n",
      "Alphabetically sorted words from the string are: \n",
      "\n",
      "CAME\n",
      "EVERYTIME\n",
      "FOR,\n",
      "IS\n",
      "LIGHNING\n",
      "MOVES\n",
      "SHE\n",
      "STRIKES\n",
      "THIS\n",
      "WHAT\n",
      "YOU\n"
     ]
    }
   ],
   "source": [
    "string = input(\"Enter a string: \")  \n",
    "sorting = string.split()  # splitting the string into seperate words\n",
    "sorting.sort()  # sorting words in alphabetical order\n",
    "print(\"Alphabetically sorted words from the string are: \\n\")\n",
    "for word in words:  \n",
    "    print(word)  "
   ]
  },
  {
   "cell_type": "markdown",
   "id": "c32734db",
   "metadata": {},
   "source": [
    "### Q5: Write a Python Program to Remove Punctuation From a String?\n",
    "\n",
    "### A5:"
   ]
  },
  {
   "cell_type": "code",
   "execution_count": 1,
   "id": "2071881b",
   "metadata": {},
   "outputs": [
    {
     "name": "stdout",
     "output_type": "stream",
     "text": [
      "Enter a string: hi there!!! what's up. hoping I was going to bump into you here!\n",
      "String without punctuation:  hi there whats up hoping I was going to bump into you here\n"
     ]
    }
   ],
   "source": [
    "punctuations = '''!()-[]{};:'\"\\,<>./?@#$%^&*_~'''\n",
    "string = input(\"Enter a string: \")\n",
    "empty_string = \"\"\n",
    "for n in string:\n",
    "    if n not in punctuations:\n",
    "        empty_string += n\n",
    "print(\"String without punctuation: \",empty_string)"
   ]
  }
 ],
 "metadata": {
  "kernelspec": {
   "display_name": "Python 3",
   "language": "python",
   "name": "python3"
  },
  "language_info": {
   "codemirror_mode": {
    "name": "ipython",
    "version": 3
   },
   "file_extension": ".py",
   "mimetype": "text/x-python",
   "name": "python",
   "nbconvert_exporter": "python",
   "pygments_lexer": "ipython3",
   "version": "3.8.8"
  }
 },
 "nbformat": 4,
 "nbformat_minor": 5
}
