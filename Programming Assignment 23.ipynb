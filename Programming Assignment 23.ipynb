{
 "cells": [
  {
   "cell_type": "markdown",
   "id": "69550f35",
   "metadata": {},
   "source": [
    "# Programming Assignment 23\n",
    "\n",
    "#### Q1: Create a function that takes a number as an argument and returns True or False depending on whether the number is symmetrical or not. A number is symmetrical when it is the same as its reverse.\n",
    "\n",
    "Ex:\n",
    "\n",
    "i. is_symmetrical(7227) ➞ True\n",
    "\n",
    "ii. is_symmetrical(12567) ➞ False\n",
    "\n",
    "iii. is_symmetrical(44444444) ➞ True\n",
    "\n",
    "iv. is_symmetrical(9939) ➞ False\n",
    "\n",
    "iv. is_symmetrical(1112111) ➞ True\n",
    "\n",
    "#### A1:"
   ]
  },
  {
   "cell_type": "code",
   "execution_count": 7,
   "id": "3d638c03",
   "metadata": {},
   "outputs": [
    {
     "name": "stdout",
     "output_type": "stream",
     "text": [
      "The program returns:\n",
      "\t1. True when a number is symmetrical.\n",
      "\t2. False when a number is not symmetrical.\n",
      "Enter a number.1221\n",
      "Result: True\n"
     ]
    }
   ],
   "source": [
    "def is_symmetrical():\n",
    "    print(\"The program returns:\\n\\t1. True when a number is symmetrical.\\n\\t2. False when a number is not symmetrical.\")\n",
    "    symmetrical = int(input(\"Enter a number.\"))\n",
    "    if str(symmetrical) == str(symmetrical)[::-1]: print(\"Result: True\")\n",
    "    else: print(\"Result: False\")\n",
    "is_symmetrical()"
   ]
  },
  {
   "cell_type": "markdown",
   "id": "52d7ed04",
   "metadata": {},
   "source": [
    "#### Q2: Given a string of numbers separated by a comma and space, return the product of the numbers.\n",
    "\n",
    "Ex:\n",
    "\n",
    "i. multiply_nums(\"2, 3\") ➞ 6\n",
    "\n",
    "ii. multiply_nums(\"1, 2, 3, 4\") ➞ 24\n",
    "\n",
    "iii. multiply_nums(\"54, 75, 453, 0\") ➞ 0\n",
    "\n",
    "iv. multiply_nums(\"10, -2\") ➞ -20\n",
    "\n",
    "#### A2:"
   ]
  },
  {
   "cell_type": "code",
   "execution_count": 29,
   "id": "9be167b2",
   "metadata": {},
   "outputs": [
    {
     "name": "stdout",
     "output_type": "stream",
     "text": [
      "Enter comma separated values: 1, 2, 3, 4\n",
      "The product of the string is 24\n"
     ]
    }
   ],
   "source": [
    "def multiply_nums():\n",
    "    number = list(map(int,input(\"Enter comma separated values: \").split(\", \")))\n",
    "    count = 1\n",
    "    for i in number: count *= i\n",
    "    print(\"The product of the string is\", count)\n",
    "multiply_nums()"
   ]
  },
  {
   "cell_type": "markdown",
   "id": "8cbf82c5",
   "metadata": {},
   "source": [
    "#### Q3: Create a function that squares every digit of a number.\n",
    "\n",
    "Ex:\n",
    "\n",
    "i. square_digits(9119) ➞ 811181\n",
    "\n",
    "ii. square_digits(2483) ➞ 416649\n",
    "\n",
    "iii. square_digits(3212) ➞ 9414\n",
    "\n",
    "###### Note: The function receives an integer and must return an integer.\n",
    "\n",
    "#### A3:"
   ]
  },
  {
   "cell_type": "code",
   "execution_count": 84,
   "id": "e59ad77f",
   "metadata": {},
   "outputs": [
    {
     "name": "stdout",
     "output_type": "stream",
     "text": [
      "The program prints the square of every digit of a number.\n",
      "Enter a number: 345\n",
      "The square of every digit of a number is: 91625 \n",
      "The type of returned values is:  <class 'int'>\n"
     ]
    }
   ],
   "source": [
    "def square_digits():\n",
    "    number = int(input(\"The program prints the square of every digit of a number.\\nEnter a number: \"))\n",
    "    string = \"\"\n",
    "    for i in str(number):\n",
    "        i = int(i)\n",
    "        y = str(i**2)\n",
    "        string += y\n",
    "    print(\"The square of every digit of a number is:\",string,str(\"\\n\")+\"The type of returned values is: \",type(int(string)))\n",
    "square_digits()"
   ]
  },
  {
   "cell_type": "markdown",
   "id": "99e9d546",
   "metadata": {},
   "source": [
    "#### Q4: Create a function that sorts a list and removes all duplicate items from it.\n",
    "\n",
    "Ex:\n",
    "\n",
    "i. setify([1, 3, 3, 5, 5]) ➞ [1, 3, 5]\n",
    "\n",
    "ii. setify([4, 4, 4, 4]) ➞ [4]\n",
    "\n",
    "iii. setify([5, 7, 8, 9, 10, 15]) ➞ [5, 7, 8, 9, 10, 15]\n",
    "\n",
    "iv. setify([3, 3, 3, 2, 1]) ➞ [1, 2, 3]\n",
    "\n",
    "#### A4:"
   ]
  },
  {
   "cell_type": "code",
   "execution_count": 81,
   "id": "9e5486f0",
   "metadata": {},
   "outputs": [
    {
     "name": "stdout",
     "output_type": "stream",
     "text": [
      "The program sorts a list and removes all duplicate items from it.\n",
      "Enter the size of the list: 4\n",
      "\tEnter a number: 22\n",
      "\tEnter a number: 33\n",
      "\tEnter a number: 22\n",
      "\tEnter a number: 33\n",
      "The list is: [22, 33, 22, 33]\n",
      "The list after removing duplicates :  [22, 33]\n"
     ]
    }
   ],
   "source": [
    "def setify():\n",
    "    print(\"The program sorts a list and removes all duplicate items from it.\")\n",
    "    upper = int(input(\"Enter the size of the list: \"))\n",
    "    sort_list = [int(input(\"\\tEnter a number: \")) for x in range(upper)]\n",
    "    final_list = []\n",
    "    print(\"The list is:\",sort_list)\n",
    "    sort_list.sort()\n",
    "    for i in sort_list:\n",
    "        if i not in final_list:\n",
    "            final_list.append(i)\n",
    "    print(\"The list after removing duplicates : \",final_list)\n",
    "setify()"
   ]
  },
  {
   "cell_type": "markdown",
   "id": "09ab9627",
   "metadata": {},
   "source": [
    "#### Q4: Create a function that returns the mean of all digits.\n",
    "\n",
    "Ex:\n",
    "\n",
    "i. mean(42) ➞ 3\n",
    "\n",
    "ii. mean(12345) ➞ 3\n",
    "\n",
    "iii. mean(666) ➞ 6\n",
    "\n",
    "###### Notes:\n",
    "\n",
    "1. The mean of all digits is the sum of digits / how many digits there are (e.g. mean of digits in 512 is (5+1+2)/3(number of digits) = 8/3=2).\n",
    "\n",
    "2. The mean will always be an integer.\n",
    "\n",
    "#### A4:"
   ]
  },
  {
   "cell_type": "code",
   "execution_count": 103,
   "id": "e4ee29d4",
   "metadata": {},
   "outputs": [
    {
     "name": "stdout",
     "output_type": "stream",
     "text": [
      "Enter a number: 512\n",
      "The mean of 512 is: 2\n"
     ]
    }
   ],
   "source": [
    "def media():\n",
    "    num = int(input(\"Enter a number: \"))\n",
    "    number = num\n",
    "    if number == 0:return 0\n",
    "    else:\n",
    "        digits = []\n",
    "        while number > 0:\n",
    "            digits.append(number % 10)\n",
    "            number //= 10\n",
    "        mean = int(sum(digits)/len(digits))\n",
    "        print(\"The mean of\",num,\"is:\",mean)\n",
    "media()"
   ]
  }
 ],
 "metadata": {
  "kernelspec": {
   "display_name": "Python 3",
   "language": "python",
   "name": "python3"
  }
 },
 "nbformat": 4,
 "nbformat_minor": 5
}
