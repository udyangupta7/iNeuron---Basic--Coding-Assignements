{
 "cells": [
  {
   "cell_type": "markdown",
   "metadata": {},
   "source": [
    "Q1: Write a Python Program to Find the Factorial of a Number?\n",
    "    \n",
    "A1:"
   ]
  },
  {
   "cell_type": "code",
   "execution_count": 6,
   "metadata": {},
   "outputs": [
    {
     "name": "stdout",
     "output_type": "stream",
     "text": [
      "Enter a number:- 10\n",
      "Factorial of 10 is 3628800\n"
     ]
    }
   ],
   "source": [
    "import math as m\n",
    "a = int(input(\"Enter a number:- \"))\n",
    "print(\"Factorial of\",a,\"is\",m.factorial(a))"
   ]
  },
  {
   "cell_type": "markdown",
   "metadata": {},
   "source": [
    "Q2: Write a Python Program to Display the multiplication Table?\n",
    "\n",
    "A2: "
   ]
  },
  {
   "cell_type": "code",
   "execution_count": 11,
   "metadata": {},
   "outputs": [
    {
     "name": "stdout",
     "output_type": "stream",
     "text": [
      "Enter a number for the table:- 3\n",
      "3 X 1 = 3\n",
      "3 X 2 = 6\n",
      "3 X 3 = 9\n",
      "3 X 4 = 12\n",
      "3 X 5 = 15\n",
      "3 X 6 = 18\n",
      "3 X 7 = 21\n",
      "3 X 8 = 24\n",
      "3 X 9 = 27\n",
      "3 X 10 = 30\n"
     ]
    }
   ],
   "source": [
    "b = int(input(\"Enter a number for the table:- \"))\n",
    "for i in range(1,11):\n",
    "    print(b,\"X\",i,\"=\",b*i)"
   ]
  },
  {
   "cell_type": "markdown",
   "metadata": {},
   "source": [
    "Q3: Write a Python Program to Print the Fibonacci sequence?\n",
    "\n",
    "A3:"
   ]
  },
  {
   "cell_type": "code",
   "execution_count": 5,
   "metadata": {},
   "outputs": [
    {
     "name": "stdout",
     "output_type": "stream",
     "text": [
      "How many terms? 16\n",
      "Fibonacci sequence:\n",
      "\n",
      "0 \t 1 \t 1 \t 2 \t 3 \t 5 \t 8 \t 13 \t 21 \t 34 \t 55 \t 89 \t 144 \t 233 \t 377 \t 610 \t "
     ]
    }
   ],
   "source": [
    "t = int(input(\"How many terms? \"))\n",
    "a = 0\n",
    "b = 1\n",
    "x = 0\n",
    "if t <= 0:\n",
    "    print(\"Please enter a positive integer\")\n",
    "elif t == 1:\n",
    "    print(\"Fibonacci sequence upto\",t,\":\")\n",
    "    print(c)\n",
    "else:\n",
    "    print(\"Fibonacci sequence:\\n\")\n",
    "    for i in range(t):\n",
    "        print(a,\"\\t\",end= \" \")\n",
    "        a = b + a\n",
    "        b = x\n",
    "        x = a"
   ]
  },
  {
   "cell_type": "markdown",
   "metadata": {},
   "source": [
    "Q4: Write a Python Program to Check Armstrong Number?\n",
    "\n",
    "A4:"
   ]
  },
  {
   "cell_type": "code",
   "execution_count": 29,
   "metadata": {},
   "outputs": [
    {
     "name": "stdout",
     "output_type": "stream",
     "text": [
      "Enter a number:- 153\n",
      "153 is an armstrong number\n"
     ]
    }
   ],
   "source": [
    "d = int(input(\"Enter a number:- \"))\n",
    "e = d\n",
    "i = 0\n",
    "while d>0:\n",
    "    i = i+((d%10)*(d%10)*(d%10))\n",
    "    d = d//10\n",
    "    \n",
    "if e == i:\n",
    "    print(e,\"is an armstrong number\")\n",
    "else:\n",
    "    print(e,\"is not an armstrong number\")"
   ]
  },
  {
   "cell_type": "markdown",
   "metadata": {},
   "source": [
    "Q5: Write a Python Program to Find Armstrong Number in an Interval?.\n",
    "   \n",
    "A5:"
   ]
  },
  {
   "cell_type": "code",
   "execution_count": 34,
   "metadata": {},
   "outputs": [
    {
     "name": "stdout",
     "output_type": "stream",
     "text": [
      "Enter an lower range limit to find all the armstrong numbers:- 20\n",
      "Enter the upper range limit to find all the armstrong numbers:- 2580\n",
      "All armstrong numbers between 20 & 2580 are:-\n",
      "153 370 371 407 1634 "
     ]
    }
   ],
   "source": [
    "u = int(input(\"Enter an lower range limit to find all the armstrong numbers:- \"))\n",
    "e = int(input(\"Enter the upper range limit to find all the armstrong numbers:- \"))\n",
    "print(\"All armstrong numbers between\",u,\"&\",e,\"are:-\")\n",
    "for i in range(u,e+1):\n",
    "    o = len(str(i))\n",
    "    s = 0\n",
    "    t = i\n",
    "    while t > 0:\n",
    "        d = t % 10\n",
    "        s += d ** o\n",
    "        t //= 10\n",
    "    if i == s:\n",
    "        print(i, end= \" \")\n"
   ]
  },
  {
   "cell_type": "markdown",
   "metadata": {},
   "source": [
    "Q6: Write a Python Program to Find the Sum of Natural Numbers?\n",
    "\n",
    "A6:"
   ]
  },
  {
   "cell_type": "code",
   "execution_count": 50,
   "metadata": {},
   "outputs": [
    {
     "name": "stdout",
     "output_type": "stream",
     "text": [
      "Enter the range upto where you want to print the sum of natural numbers:- 4\n",
      "All natural numbers between 1 and 4 are:-\n",
      "1 2 3 4 \n",
      "The sum of all natural numbers between 1 and 4 is:- 10\n"
     ]
    }
   ],
   "source": [
    "f = int(input(\"Enter the range upto where you want to print the sum of natural numbers:- \"))\n",
    "c = 0\n",
    "if f <= 0:\n",
    "    print(\"Natural numbers start from 1. Hence, sum  will be 0.\")\n",
    "else:\n",
    "    print(\"All natural numbers between 1 and\",f,\"are:-\")\n",
    "    for i in range(1,f+1):\n",
    "        c += i \n",
    "        print(i, end=\" \")\n",
    "    print(\"\\nThe sum of all natural numbers between 1 and\",f,\"is:-\",c)"
   ]
  }
 ],
 "metadata": {
  "kernelspec": {
   "display_name": "Python 3",
   "language": "python",
   "name": "python3"
  },
  "language_info": {
   "codemirror_mode": {
    "name": "ipython",
    "version": 3
   },
   "file_extension": ".py",
   "mimetype": "text/x-python",
   "name": "python",
   "nbconvert_exporter": "python",
   "pygments_lexer": "ipython3",
   "version": "3.8.5"
  }
 },
 "nbformat": 4,
 "nbformat_minor": 4
}
